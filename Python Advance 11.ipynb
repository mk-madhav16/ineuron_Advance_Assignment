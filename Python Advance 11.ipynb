{
 "cells": [
  {
   "cell_type": "code",
   "execution_count": null,
   "id": "9b2baab9",
   "metadata": {},
   "outputs": [],
   "source": [
    "#Q1. What is the concept of a metaclass?"
   ]
  },
  {
   "cell_type": "code",
   "execution_count": null,
   "id": "b51b2b3f",
   "metadata": {},
   "outputs": [],
   "source": [
    "#Ans_1\n",
    "Concept of a metaclass is that it defines how a Class behaves."
   ]
  },
  {
   "cell_type": "code",
   "execution_count": null,
   "id": "2506fe7c",
   "metadata": {},
   "outputs": [],
   "source": [
    "#Q2. What is the best way to declare a class's metaclass?"
   ]
  },
  {
   "cell_type": "code",
   "execution_count": null,
   "id": "316c166f",
   "metadata": {},
   "outputs": [],
   "source": [
    "#Ans_2\n",
    "The best way to declare a Class metaclass is by adding metaclass word to it.\n",
    "Ex- class ineuron_meta."
   ]
  },
  {
   "cell_type": "code",
   "execution_count": null,
   "id": "e51be2d7",
   "metadata": {},
   "outputs": [],
   "source": [
    "#Q3. How do class decorators overlap with metaclasses for handling classes ?"
   ]
  },
  {
   "cell_type": "code",
   "execution_count": null,
   "id": "457de14a",
   "metadata": {},
   "outputs": [],
   "source": [
    "#Ans_3\n",
    "In case of metaclass __new__ or __init__ that make the class object"
   ]
  },
  {
   "cell_type": "code",
   "execution_count": null,
   "id": "eef1d6da",
   "metadata": {},
   "outputs": [],
   "source": [
    "#Q4. How do class decorators overlap with metaclasses for handling instances?"
   ]
  },
  {
   "cell_type": "code",
   "execution_count": null,
   "id": "edb5b7a3",
   "metadata": {},
   "outputs": [],
   "source": [
    "#Ans_4\n",
    "We can do with a custom metaclass i.e. just apply the functionality of the \"decorator function\"."
   ]
  },
  {
   "cell_type": "code",
   "execution_count": null,
   "id": "69367651",
   "metadata": {},
   "outputs": [],
   "source": []
  }
 ],
 "metadata": {
  "kernelspec": {
   "display_name": "Python 3",
   "language": "python",
   "name": "python3"
  },
  "language_info": {
   "codemirror_mode": {
    "name": "ipython",
    "version": 3
   },
   "file_extension": ".py",
   "mimetype": "text/x-python",
   "name": "python",
   "nbconvert_exporter": "python",
   "pygments_lexer": "ipython3",
   "version": "3.8.8"
  }
 },
 "nbformat": 4,
 "nbformat_minor": 5
}
