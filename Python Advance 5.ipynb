{
 "cells": [
  {
   "cell_type": "code",
   "execution_count": null,
   "id": "29c984a5",
   "metadata": {},
   "outputs": [],
   "source": [
    "#Q1. What is the meaning of multiple inheritance?"
   ]
  },
  {
   "cell_type": "code",
   "execution_count": null,
   "id": "4d956d26",
   "metadata": {},
   "outputs": [],
   "source": [
    "#Ans_1\n",
    "Multiple inheritance- when single child Class inherits its properties from multiple Parent class."
   ]
  },
  {
   "cell_type": "code",
   "execution_count": null,
   "id": "92e63958",
   "metadata": {},
   "outputs": [],
   "source": [
    "#Q2. What is the concept of delegation?"
   ]
  },
  {
   "cell_type": "code",
   "execution_count": null,
   "id": "d3f30f9c",
   "metadata": {},
   "outputs": [],
   "source": [
    "#Ans_2\n",
    "Delegation is the assignment of authority to another Class to carry out specific activities.\n",
    "It Wraps the object of main Class into a smaller object with limited access."
   ]
  },
  {
   "cell_type": "code",
   "execution_count": null,
   "id": "87593f4c",
   "metadata": {},
   "outputs": [],
   "source": [
    "#Q3. What is the concept of composition?"
   ]
  },
  {
   "cell_type": "code",
   "execution_count": null,
   "id": "06013666",
   "metadata": {},
   "outputs": [],
   "source": [
    "#Ans_3\n",
    "• A Class refers to one or more other classes by using instances of those classes as a instance variable.\n",
    "• It is irrespective of inheritence in this approach all the parent class "
   ]
  },
  {
   "cell_type": "code",
   "execution_count": null,
   "id": "e41c2f07",
   "metadata": {},
   "outputs": [],
   "source": [
    "#Q4. What are bound methods and how do we use them?"
   ]
  },
  {
   "cell_type": "code",
   "execution_count": null,
   "id": "2306e46d",
   "metadata": {},
   "outputs": [],
   "source": [
    "#Ans_4\n",
    "Bound methods - When a attribute of class is accessed via instances.\n",
    "We have to pass it in self as its first argument."
   ]
  },
  {
   "cell_type": "code",
   "execution_count": null,
   "id": "c8d23642",
   "metadata": {},
   "outputs": [],
   "source": [
    "#Q5. What is the purpose of pseudoprivate attributes?"
   ]
  },
  {
   "cell_type": "code",
   "execution_count": null,
   "id": "a7b08b39",
   "metadata": {},
   "outputs": [],
   "source": [
    "#Ans_5\n",
    "• This feature is mostly intended to avoid namespace collisions in instances, not to restrict access to names in general.\n",
    "• It does not prevent access by code outside the class"
   ]
  },
  {
   "cell_type": "code",
   "execution_count": null,
   "id": "63592f74",
   "metadata": {},
   "outputs": [],
   "source": []
  }
 ],
 "metadata": {
  "kernelspec": {
   "display_name": "Python 3",
   "language": "python",
   "name": "python3"
  },
  "language_info": {
   "codemirror_mode": {
    "name": "ipython",
    "version": 3
   },
   "file_extension": ".py",
   "mimetype": "text/x-python",
   "name": "python",
   "nbconvert_exporter": "python",
   "pygments_lexer": "ipython3",
   "version": "3.8.8"
  }
 },
 "nbformat": 4,
 "nbformat_minor": 5
}
