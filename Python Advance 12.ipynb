{
 "cells": [
  {
   "cell_type": "code",
   "execution_count": null,
   "id": "c3b1af4c",
   "metadata": {},
   "outputs": [],
   "source": [
    "#Q1. Does assigning a value to a strings indexed character violate Python string immutability?"
   ]
  },
  {
   "cell_type": "code",
   "execution_count": null,
   "id": "1e66ebb3",
   "metadata": {},
   "outputs": [],
   "source": [
    "#Ans_1\n",
    "Already indexed charater can not be assigned to a new value, as Strings are immutable."
   ]
  },
  {
   "cell_type": "code",
   "execution_count": null,
   "id": "aafca0a7",
   "metadata": {},
   "outputs": [],
   "source": [
    "#Q2. Does using the += operator to concatenate strings violate Python's string immutability? Why or why not ?"
   ]
  },
  {
   "cell_type": "code",
   "execution_count": null,
   "id": "a03519e4",
   "metadata": {},
   "outputs": [],
   "source": [
    "#Ans_2\n",
    "It does not vouilate Pythons string immutability as it creates a new association with data and variable."
   ]
  },
  {
   "cell_type": "code",
   "execution_count": null,
   "id": "cf6e63f0",
   "metadata": {},
   "outputs": [],
   "source": [
    "#Q3. In Python, how many different ways are there to index a character?"
   ]
  },
  {
   "cell_type": "code",
   "execution_count": null,
   "id": "896ba40c",
   "metadata": {},
   "outputs": [],
   "source": [
    "#Ans_3\n",
    "There are two ways:-\n",
    "    Positive Indexing\n",
    "    Negative Indexing"
   ]
  },
  {
   "cell_type": "code",
   "execution_count": null,
   "id": "037a6791",
   "metadata": {},
   "outputs": [],
   "source": [
    "#Q4. What is the relationship between indexing and slicing?"
   ]
  },
  {
   "cell_type": "code",
   "execution_count": null,
   "id": "1f0585a6",
   "metadata": {},
   "outputs": [],
   "source": [
    "#Ans_4\n",
    "Indexing : is used to obtain individual elements. \n",
    "Slicing  : is used to obtain a sequence of elements.\n",
    "Similarity is we can access elements of sequence datatypes by using slicing and indexing    "
   ]
  },
  {
   "cell_type": "code",
   "execution_count": null,
   "id": "9d6ca128",
   "metadata": {},
   "outputs": [],
   "source": [
    "#Q5. What is an indexed character's exact data type? What is the data form of a slicing-generated substring?"
   ]
  },
  {
   "cell_type": "code",
   "execution_count": null,
   "id": "8318267c",
   "metadata": {},
   "outputs": [],
   "source": [
    "#Ans_5\n",
    "It has a datatype of string"
   ]
  },
  {
   "cell_type": "code",
   "execution_count": null,
   "id": "75cc3ac1",
   "metadata": {},
   "outputs": [],
   "source": [
    "#Q6. What is the relationship between string and character \"types\" in Python?"
   ]
  },
  {
   "cell_type": "code",
   "execution_count": null,
   "id": "ec5af1cd",
   "metadata": {},
   "outputs": [],
   "source": [
    "#Ans_6\n",
    "Object that contains sequence of character datatypes are called string as Python does not have a separate character type."
   ]
  },
  {
   "cell_type": "code",
   "execution_count": null,
   "id": "57317172",
   "metadata": {},
   "outputs": [],
   "source": [
    "#Q7. Identify at least two operators & one method that allow you to combine one or more smaller strings to create a larger string ?"
   ]
  },
  {
   "cell_type": "code",
   "execution_count": null,
   "id": "67748e7e",
   "metadata": {},
   "outputs": [],
   "source": [
    "#Ans_7\n",
    "+ and * allow you to combine one or more smaller strings to create a larger string"
   ]
  },
  {
   "cell_type": "code",
   "execution_count": null,
   "id": "658b0edc",
   "metadata": {},
   "outputs": [],
   "source": [
    "#Q8. What is the benefit of first checking the target string with in or not in before using the index method to find a substring?"
   ]
  },
  {
   "cell_type": "code",
   "execution_count": null,
   "id": "fd9ebdf2",
   "metadata": {},
   "outputs": [],
   "source": [
    "#Ans_8\n",
    "It helps in confirming availability of substring and thus avoid raising of ValueError."
   ]
  },
  {
   "cell_type": "code",
   "execution_count": null,
   "id": "2a380c63",
   "metadata": {},
   "outputs": [],
   "source": [
    "#Q9. Which operators and built-in string methods produce simple Boolean (true/false) results?"
   ]
  },
  {
   "cell_type": "code",
   "execution_count": null,
   "id": "6f936dd3",
   "metadata": {},
   "outputs": [],
   "source": [
    "#Ans_9\n",
    "in , not and is"
   ]
  },
  {
   "cell_type": "code",
   "execution_count": null,
   "id": "3a2664a2",
   "metadata": {},
   "outputs": [],
   "source": []
  }
 ],
 "metadata": {
  "kernelspec": {
   "display_name": "Python 3",
   "language": "python",
   "name": "python3"
  },
  "language_info": {
   "codemirror_mode": {
    "name": "ipython",
    "version": 3
   },
   "file_extension": ".py",
   "mimetype": "text/x-python",
   "name": "python",
   "nbconvert_exporter": "python",
   "pygments_lexer": "ipython3",
   "version": "3.8.8"
  }
 },
 "nbformat": 4,
 "nbformat_minor": 5
}
