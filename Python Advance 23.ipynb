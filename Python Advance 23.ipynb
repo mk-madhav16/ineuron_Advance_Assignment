{
 "cells": [
  {
   "cell_type": "code",
   "execution_count": null,
   "id": "a70fc7c6",
   "metadata": {},
   "outputs": [],
   "source": [
    "#Q1. If you have any, what are your choices for increasing the comparison between different figures on the same graph?"
   ]
  },
  {
   "cell_type": "code",
   "execution_count": null,
   "id": "ff96531d",
   "metadata": {},
   "outputs": [],
   "source": [
    "#Ans_1\n",
    "I will use subplots from matplotlib."
   ]
  },
  {
   "cell_type": "code",
   "execution_count": null,
   "id": "294412bb",
   "metadata": {},
   "outputs": [],
   "source": [
    "#Q2. Can you explain the benefit of compound interest over a higher rate of interest that does not compound after reading this chapter?"
   ]
  },
  {
   "cell_type": "code",
   "execution_count": null,
   "id": "ef4764e7",
   "metadata": {},
   "outputs": [],
   "source": [
    "#Ans_2\n",
    "Compound interest makes a sum of money grow at a faster rate than simple interest,because in addition to earning returns on the money you invest, you also earn returns on those returns at the end of every compounding period."
   ]
  },
  {
   "cell_type": "code",
   "execution_count": null,
   "id": "6253ac54",
   "metadata": {},
   "outputs": [],
   "source": [
    "#Q3. What is a histogram, exactly? Name a numpy method for creating such a graph ?"
   ]
  },
  {
   "cell_type": "code",
   "execution_count": null,
   "id": "235da0c6",
   "metadata": {},
   "outputs": [],
   "source": [
    "#Ans_3\n",
    "A histogram is a graphical display of data using bars of different heights. \n",
    "In a histogram, each bar groups numbers into ranges.\n",
    "numpy.histogram() - numpy method for creating histogram."
   ]
  },
  {
   "cell_type": "code",
   "execution_count": null,
   "id": "406e2fda",
   "metadata": {},
   "outputs": [],
   "source": [
    "#Q4. If necessary, how do you change the aspect ratios between the X and Y axes ?"
   ]
  },
  {
   "cell_type": "code",
   "execution_count": null,
   "id": "e4ea9022",
   "metadata": {},
   "outputs": [],
   "source": [
    "#Ans_4\n",
    "By using - figure(figsize=(x,y))"
   ]
  },
  {
   "cell_type": "code",
   "execution_count": null,
   "id": "885c857e",
   "metadata": {},
   "outputs": [],
   "source": [
    "#Q5. Compare and contrast the three types of array multiplication between two numpy arrays: dot product, outer product, and regular multiplication of two numpy arrays ?"
   ]
  },
  {
   "cell_type": "code",
   "execution_count": null,
   "id": "5ecd37c7",
   "metadata": {},
   "outputs": [],
   "source": [
    "#Ans_5\n",
    "• Dot product          - there is row wise multiplication, row of one array with column of second array.\n",
    "• Outer multiplication - every element of first array a1 will be multiply by every element of other array a2 such such the number of columns will be equal to the number of element in another array a2."
   ]
  },
  {
   "cell_type": "code",
   "execution_count": null,
   "id": "e267c9f6",
   "metadata": {},
   "outputs": [],
   "source": [
    "#Q6. Before you buy a home, which numpy function will you use to measure your monthly mortgage payment ?"
   ]
  },
  {
   "cell_type": "code",
   "execution_count": null,
   "id": "1e22c6cd",
   "metadata": {},
   "outputs": [],
   "source": [
    "#Ans_6\n",
    "Numpy function which i will use to measure your monthly mortgage payment is np.pmt(rate, nper, pv) "
   ]
  },
  {
   "cell_type": "code",
   "execution_count": null,
   "id": "5a096f41",
   "metadata": {},
   "outputs": [],
   "source": [
    "#Q7. Can string data be stored in numpy arrays? If so, list at least one restriction that applies to this data ?"
   ]
  },
  {
   "cell_type": "code",
   "execution_count": null,
   "id": "5d1c4c24",
   "metadata": {},
   "outputs": [],
   "source": [
    "#Ans_7\n",
    "Yes, string data cab be stored in numpy arrays.\n",
    "The limitation is the string which is having the maximum length is the limit."
   ]
  },
  {
   "cell_type": "code",
   "execution_count": null,
   "id": "600bf595",
   "metadata": {},
   "outputs": [],
   "source": []
  }
 ],
 "metadata": {
  "kernelspec": {
   "display_name": "Python 3",
   "language": "python",
   "name": "python3"
  },
  "language_info": {
   "codemirror_mode": {
    "name": "ipython",
    "version": 3
   },
   "file_extension": ".py",
   "mimetype": "text/x-python",
   "name": "python",
   "nbconvert_exporter": "python",
   "pygments_lexer": "ipython3",
   "version": "3.8.8"
  }
 },
 "nbformat": 4,
 "nbformat_minor": 5
}
