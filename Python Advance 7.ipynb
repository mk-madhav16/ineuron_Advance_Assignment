{
 "cells": [
  {
   "cell_type": "code",
   "execution_count": null,
   "id": "25153694",
   "metadata": {},
   "outputs": [],
   "source": [
    "#Q1. What is the purpose of the try statement?"
   ]
  },
  {
   "cell_type": "code",
   "execution_count": null,
   "id": "f964da78",
   "metadata": {},
   "outputs": [],
   "source": [
    "#Ans_1\n",
    "• Try is used in exception handling.\n",
    "• Contain statement which may cause error\n",
    "• Helps in prerventing run time error"
   ]
  },
  {
   "cell_type": "code",
   "execution_count": null,
   "id": "1a268d88",
   "metadata": {},
   "outputs": [],
   "source": [
    "#Q2. What are the two most popular try statement variations?"
   ]
  },
  {
   "cell_type": "code",
   "execution_count": null,
   "id": "29ea6bb7",
   "metadata": {},
   "outputs": [],
   "source": [
    "#Ans_2\n",
    "• try and except\n",
    "• try, except and finally"
   ]
  },
  {
   "cell_type": "code",
   "execution_count": null,
   "id": "38de49fc",
   "metadata": {},
   "outputs": [],
   "source": [
    "#Q3. What is the purpose of the raise statement?"
   ]
  },
  {
   "cell_type": "code",
   "execution_count": null,
   "id": "31891179",
   "metadata": {},
   "outputs": [],
   "source": [
    "#Ans_3\n",
    "Raise statement - helps in forming exception as the programming logic says."
   ]
  },
  {
   "cell_type": "code",
   "execution_count": null,
   "id": "46346b69",
   "metadata": {},
   "outputs": [],
   "source": [
    "#Q4. What does the assert statement do, and what other statement is it like?"
   ]
  },
  {
   "cell_type": "code",
   "execution_count": null,
   "id": "5f19eda6",
   "metadata": {},
   "outputs": [],
   "source": [
    "#Ans_4\n",
    "Assert statement - Helps to avoid code failure, it is used while dubugging the code.\n",
    "                   It has a condition or expression which is supposed to be always true.\n",
    "                   If the condition is false assert halts the program and gives an AssertionError ."
   ]
  },
  {
   "cell_type": "code",
   "execution_count": null,
   "id": "3083b4e0",
   "metadata": {},
   "outputs": [],
   "source": [
    "#Q5. What is the purpose of the with/as argument, and what other statement is it like?"
   ]
  },
  {
   "cell_type": "code",
   "execution_count": null,
   "id": "bb4dfe78",
   "metadata": {},
   "outputs": [],
   "source": [
    "#Ans_5\n",
    "With statement - It is used in exception handling to make the code cleaner and much more readable.\n",
    "                 It simplifies the management of common resources like file streams."
   ]
  },
  {
   "cell_type": "code",
   "execution_count": null,
   "id": "27c9dd09",
   "metadata": {},
   "outputs": [],
   "source": []
  }
 ],
 "metadata": {
  "kernelspec": {
   "display_name": "Python 3",
   "language": "python",
   "name": "python3"
  },
  "language_info": {
   "codemirror_mode": {
    "name": "ipython",
    "version": 3
   },
   "file_extension": ".py",
   "mimetype": "text/x-python",
   "name": "python",
   "nbconvert_exporter": "python",
   "pygments_lexer": "ipython3",
   "version": "3.8.8"
  }
 },
 "nbformat": 4,
 "nbformat_minor": 5
}
