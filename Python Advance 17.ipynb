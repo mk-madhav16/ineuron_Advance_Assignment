{
 "cells": [
  {
   "cell_type": "code",
   "execution_count": null,
   "id": "89603115",
   "metadata": {},
   "outputs": [],
   "source": [
    "#Q1. Explain the difference between greedy and non-greedy syntax with visual terms in as few words as possible. What is the bare minimum effort required to transform a greedy pattern into a non-greedyb one? What characters or characters can you introduce or change?"
   ]
  },
  {
   "cell_type": "code",
   "execution_count": null,
   "id": "0dc1623b",
   "metadata": {},
   "outputs": [],
   "source": [
    "#Ans_1\n",
    "The Greedy Match will try to match as many repetitions of the quantified pattern.\n",
    "However The Non Greedy Match will try to match as few repetitions of the quantified pattern."
   ]
  },
  {
   "cell_type": "code",
   "execution_count": 1,
   "id": "7278f211",
   "metadata": {},
   "outputs": [
    {
     "name": "stdout",
     "output_type": "stream",
     "text": [
      "['m', '', '', 'mmm', '', '', '', '']\n",
      "['', 'm', '', '', '', 'm', '', 'm', '', 'm', '', '', '', '']\n"
     ]
    }
   ],
   "source": [
    "import re\n",
    "print(re.findall(\"m*\", \"madmmm111\"))  #greedy\n",
    "print(re.findall(\"m*?\", \"madmmm111\")) #non_greedy"
   ]
  },
  {
   "cell_type": "code",
   "execution_count": null,
   "id": "a8c6f094",
   "metadata": {},
   "outputs": [],
   "source": [
    "#Q2. When exactly does greedy versus non-greedy make a difference? What if you're looking for a non-greedy match but the only one available is greedy?"
   ]
  },
  {
   "cell_type": "code",
   "execution_count": null,
   "id": "f95c5689",
   "metadata": {},
   "outputs": [],
   "source": [
    "#Ans_2\n",
    "The Greedy Match will try to match as many repetitions of the quantified pattern.\n",
    "However The Non Greedy Match will try to match as few repetitions of the quantified pattern.\n",
    "In this certain case we can use other filtering or pattern matching methods of regex and identify the required pattern."
   ]
  },
  {
   "cell_type": "code",
   "execution_count": null,
   "id": "87f76603",
   "metadata": {},
   "outputs": [],
   "source": [
    "#Q3. In a simple match of a string, which looks only for one match and does not do any replacement, is the use of a nontagged group likely to make any practical difference?"
   ]
  },
  {
   "cell_type": "code",
   "execution_count": null,
   "id": "66401115",
   "metadata": {},
   "outputs": [],
   "source": [
    "#Ans_3\n",
    "Specially in this case the Non Tagged Group will not make any diffrence in this case."
   ]
  },
  {
   "cell_type": "code",
   "execution_count": null,
   "id": "09e8f467",
   "metadata": {},
   "outputs": [],
   "source": [
    "#Q4. Describe a scenario in which using a nontagged category would have a significant impact on the program's outcomes ?"
   ]
  },
  {
   "cell_type": "code",
   "execution_count": null,
   "id": "5609a09b",
   "metadata": {},
   "outputs": [],
   "source": [
    "#Ans_4\n",
    "Where the separator of value in a string is of no use and we need to capture only the values, so in this case \n",
    "nontagged category would have a significant impact on the programs outcomes"
   ]
  },
  {
   "cell_type": "code",
   "execution_count": null,
   "id": "08e763f8",
   "metadata": {},
   "outputs": [],
   "source": [
    "#Q5. Unlike a normal regex pattern, a look-ahead condition does not consume the characters it examines. Describe a situation in which this could make a difference in the results of your programme ?"
   ]
  },
  {
   "cell_type": "code",
   "execution_count": null,
   "id": "67f01d66",
   "metadata": {},
   "outputs": [],
   "source": [
    "#Ans_5\n",
    "While counting the number of multiple lines or mutiple sentence in a string the positive look ahead makes a difference, \n",
    "without which we wont get the correct count of lines or sentences in a string."
   ]
  },
  {
   "cell_type": "code",
   "execution_count": null,
   "id": "c9a4a997",
   "metadata": {},
   "outputs": [],
   "source": [
    "#Q6. In standard expressions, what is the difference between positive look-ahead and negative look-ahead ?"
   ]
  },
  {
   "cell_type": "code",
   "execution_count": null,
   "id": "f31b8506",
   "metadata": {},
   "outputs": [],
   "source": [
    "#Ans_6\n",
    "Positive Lookahead allows to add a condition for what follows. \n",
    "Negative Lookahead is similar, but it looks behind."
   ]
  },
  {
   "cell_type": "code",
   "execution_count": null,
   "id": "2a5e007a",
   "metadata": {},
   "outputs": [],
   "source": [
    "#Q7. What is the benefit of referring to groups by name rather than by number in a standard expression?"
   ]
  },
  {
   "cell_type": "code",
   "execution_count": null,
   "id": "eaf7a14f",
   "metadata": {},
   "outputs": [],
   "source": [
    "#Ans_7\n",
    "It helps to keep the code clear and easy to understand."
   ]
  },
  {
   "cell_type": "code",
   "execution_count": null,
   "id": "d7500d98",
   "metadata": {},
   "outputs": [],
   "source": [
    "#Q8. Can you identify repeated items within a target string using named groups, as in \"The cow jumped over the moon\"?"
   ]
  },
  {
   "cell_type": "code",
   "execution_count": 7,
   "id": "1efdf656",
   "metadata": {},
   "outputs": [
    {
     "data": {
      "text/plain": [
       "['The', 'the']"
      ]
     },
     "execution_count": 7,
     "metadata": {},
     "output_type": "execute_result"
    }
   ],
   "source": [
    "#Ans_8\n",
    "import re\n",
    "string = \"The cow jumped over the moon\"\n",
    "reg=re.compile('(?P<w>The)',re.I)\n",
    "reg.findall(string)"
   ]
  },
  {
   "cell_type": "code",
   "execution_count": null,
   "id": "9b46506b",
   "metadata": {},
   "outputs": [],
   "source": [
    "#Q9. When parsing a string, what is at least one thing that the Scanner interface does for you that the re.findall feature does not ?"
   ]
  },
  {
   "cell_type": "code",
   "execution_count": null,
   "id": "0fe50bc3",
   "metadata": {},
   "outputs": [],
   "source": [
    "#Ans_9\n",
    "re.search() can return the first occurrence that matches the specified pattern."
   ]
  },
  {
   "cell_type": "code",
   "execution_count": null,
   "id": "8ad1971c",
   "metadata": {},
   "outputs": [],
   "source": [
    "#Q10. Does a scanner object have to be named scanner?"
   ]
  },
  {
   "cell_type": "code",
   "execution_count": null,
   "id": "b06e7506",
   "metadata": {},
   "outputs": [],
   "source": [
    "#Ans_10\n",
    "No, we can name it anything."
   ]
  },
  {
   "cell_type": "code",
   "execution_count": null,
   "id": "ab1e3f5f",
   "metadata": {},
   "outputs": [],
   "source": []
  }
 ],
 "metadata": {
  "kernelspec": {
   "display_name": "Python 3",
   "language": "python",
   "name": "python3"
  },
  "language_info": {
   "codemirror_mode": {
    "name": "ipython",
    "version": 3
   },
   "file_extension": ".py",
   "mimetype": "text/x-python",
   "name": "python",
   "nbconvert_exporter": "python",
   "pygments_lexer": "ipython3",
   "version": "3.8.8"
  }
 },
 "nbformat": 4,
 "nbformat_minor": 5
}
