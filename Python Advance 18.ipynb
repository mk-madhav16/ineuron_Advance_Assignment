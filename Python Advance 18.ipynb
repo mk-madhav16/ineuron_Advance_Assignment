{
 "cells": [
  {
   "cell_type": "code",
   "execution_count": null,
   "id": "2d5e019f",
   "metadata": {},
   "outputs": [],
   "source": [
    "#Q1. Describe the differences between text and binary files in a single paragraph."
   ]
  },
  {
   "cell_type": "code",
   "execution_count": null,
   "id": "8c992671",
   "metadata": {},
   "outputs": [],
   "source": [
    "#Ans_1\n",
    "Text files- store data in sequential bytes but bits in text file represents characters.\n",
    "Bits file - store custom data and such files can store multiple types of data under a single file."
   ]
  },
  {
   "cell_type": "code",
   "execution_count": null,
   "id": "1473a9cd",
   "metadata": {},
   "outputs": [],
   "source": [
    "#Q2. What are some scenarios where using text files will be the better option? When would you like to use binary files instead of text files?"
   ]
  },
  {
   "cell_type": "code",
   "execution_count": null,
   "id": "b9ac29dd",
   "metadata": {},
   "outputs": [],
   "source": [
    "#Ans_2\n",
    "Text files are less prone to get corrupted as any undesired change may just show up once the file is opened \n",
    "and then can easily be removed. Whereas Use binary files  instead of text files for image data."
   ]
  },
  {
   "cell_type": "code",
   "execution_count": null,
   "id": "d8499557",
   "metadata": {},
   "outputs": [],
   "source": [
    "#Q3. What are some of the issues with using binary operations to read and write a Python integer directly to disc?"
   ]
  },
  {
   "cell_type": "code",
   "execution_count": null,
   "id": "fefc9ec7",
   "metadata": {},
   "outputs": [],
   "source": [
    "#Ans_3\n",
    "• Binary operations deal with raw data\n",
    "• One needs to identify how many bytes one would read or write."
   ]
  },
  {
   "cell_type": "code",
   "execution_count": null,
   "id": "53992654",
   "metadata": {},
   "outputs": [],
   "source": [
    "#Q4. Describe a benefit of using the with keyword instead of explicitly opening a file ?"
   ]
  },
  {
   "cell_type": "code",
   "execution_count": null,
   "id": "8d432ed8",
   "metadata": {},
   "outputs": [],
   "source": [
    "#Ans_4\n",
    "Using with means that the file will be closed as soon as you leave the block. \n",
    "This is beneficial because closing a file is something that can easily be forgotten and ties up resources that you no longer need."
   ]
  },
  {
   "cell_type": "code",
   "execution_count": null,
   "id": "35c5e3be",
   "metadata": {},
   "outputs": [],
   "source": [
    " #Q5. Does Python have the trailing newline while reading a line of text? Does Python append a newline when you write a line of text?"
   ]
  },
  {
   "cell_type": "code",
   "execution_count": null,
   "id": "101f926b",
   "metadata": {},
   "outputs": [],
   "source": [
    "#Ans_5\n",
    "Yes, Python have the trailing newline and no, Python does not append a newline"
   ]
  },
  {
   "cell_type": "code",
   "execution_count": null,
   "id": "927eb987",
   "metadata": {},
   "outputs": [],
   "source": [
    "#Q6. What file operations enable for random-access operation?"
   ]
  },
  {
   "cell_type": "code",
   "execution_count": null,
   "id": "089899b0",
   "metadata": {},
   "outputs": [],
   "source": [
    "#Ans_6\n",
    "Seek() and tell() file operations enable for random-access operation"
   ]
  },
  {
   "cell_type": "code",
   "execution_count": null,
   "id": "69dae5d7",
   "metadata": {},
   "outputs": [],
   "source": [
    "#Q7. When do you think you'll use the struct package the most?"
   ]
  },
  {
   "cell_type": "code",
   "execution_count": null,
   "id": "d9f2d127",
   "metadata": {},
   "outputs": [],
   "source": [
    "#Ans_7\n",
    "When converting python types into C language types."
   ]
  },
  {
   "cell_type": "code",
   "execution_count": null,
   "id": "309810aa",
   "metadata": {},
   "outputs": [],
   "source": [
    "#Q8. When is pickling the best option?"
   ]
  },
  {
   "cell_type": "code",
   "execution_count": null,
   "id": "5f1cd7f4",
   "metadata": {},
   "outputs": [],
   "source": [
    "#Ans_8\n",
    "It is a good option while creating a new binary file using python."
   ]
  },
  {
   "cell_type": "code",
   "execution_count": null,
   "id": "323d2659",
   "metadata": {},
   "outputs": [],
   "source": [
    "#Q9. When will it be best to use the shelve package?"
   ]
  },
  {
   "cell_type": "code",
   "execution_count": null,
   "id": "3667fa70",
   "metadata": {},
   "outputs": [],
   "source": [
    "#Ans_9\n",
    "It is used to pickle data but treats the entire file as dictionary."
   ]
  },
  {
   "cell_type": "code",
   "execution_count": null,
   "id": "9e838449",
   "metadata": {},
   "outputs": [],
   "source": [
    "#Q10. What is a special restriction when using the shelve package, as opposed to using other data dictionaries?"
   ]
  },
  {
   "cell_type": "code",
   "execution_count": null,
   "id": "0d8e133a",
   "metadata": {},
   "outputs": [],
   "source": [
    "#Ans_10\n",
    "Only string data type is used as key in this special dictionary object whereas any picklable object can be used as value."
   ]
  },
  {
   "cell_type": "code",
   "execution_count": null,
   "id": "4ce8d083",
   "metadata": {},
   "outputs": [],
   "source": []
  }
 ],
 "metadata": {
  "kernelspec": {
   "display_name": "Python 3",
   "language": "python",
   "name": "python3"
  },
  "language_info": {
   "codemirror_mode": {
    "name": "ipython",
    "version": 3
   },
   "file_extension": ".py",
   "mimetype": "text/x-python",
   "name": "python",
   "nbconvert_exporter": "python",
   "pygments_lexer": "ipython3",
   "version": "3.8.8"
  }
 },
 "nbformat": 4,
 "nbformat_minor": 5
}
