{
 "cells": [
  {
   "cell_type": "code",
   "execution_count": null,
   "id": "83c48dae",
   "metadata": {},
   "outputs": [],
   "source": [
    "#Q1. What are the benefits of the built-in array package, if any?"
   ]
  },
  {
   "cell_type": "code",
   "execution_count": null,
   "id": "2c3a9af6",
   "metadata": {},
   "outputs": [],
   "source": [
    "#Ans_1\n",
    "They avoid memory overflow or shortage of memory in arrays , they make code easy and simple to understand."
   ]
  },
  {
   "cell_type": "code",
   "execution_count": null,
   "id": "2a538861",
   "metadata": {},
   "outputs": [],
   "source": [
    "#Q2. What are some of the array package's limitations ?"
   ]
  },
  {
   "cell_type": "code",
   "execution_count": null,
   "id": "512b9576",
   "metadata": {},
   "outputs": [],
   "source": [
    "#Ans_2\n",
    "• Insertion and deletion are quite difficult in an array \n",
    "• Less allocation of memory leads to a problem"
   ]
  },
  {
   "cell_type": "code",
   "execution_count": null,
   "id": "5a5e6cd6",
   "metadata": {},
   "outputs": [],
   "source": [
    "#Q3. Describe the main differences between the array and numpy packages ?"
   ]
  },
  {
   "cell_type": "code",
   "execution_count": null,
   "id": "694904ba",
   "metadata": {},
   "outputs": [],
   "source": [
    "#Ans_3\n",
    "Array is a single dimensional entity which hold the numerical data, while numpy can have more than 1 dimension.\n",
    "Array we do not form a tabular structure, while in numpy it forms a tabular structure."
   ]
  },
  {
   "cell_type": "code",
   "execution_count": null,
   "id": "e7bce8b6",
   "metadata": {},
   "outputs": [],
   "source": [
    "#Q4. Explain the distinctions between the empty, ones, and zeros functions ?"
   ]
  },
  {
   "cell_type": "code",
   "execution_count": null,
   "id": "8742f50d",
   "metadata": {},
   "outputs": [],
   "source": [
    "#Ans_4\n",
    "Empty function: An empty function is a function that does not contain any statement within its body. \n",
    "Ones: This function returns a new array of given shape and data type.\n",
    "Zeros: This function returns a new array of given shape and data type."
   ]
  },
  {
   "cell_type": "code",
   "execution_count": null,
   "id": "1d153052",
   "metadata": {},
   "outputs": [],
   "source": [
    "#Q5. In the fromfunction function, which is used to construct new arrays, what is the role of the callable argument ?"
   ]
  },
  {
   "cell_type": "code",
   "execution_count": null,
   "id": "95287a8f",
   "metadata": {},
   "outputs": [],
   "source": [
    "#Ans_5\n",
    "The function is called with N parameters, where N is the rank of shape. Each parameter represents the coordinates of the array varying along a specific axis."
   ]
  },
  {
   "cell_type": "code",
   "execution_count": null,
   "id": "eff9ac91",
   "metadata": {},
   "outputs": [],
   "source": [
    "#Q6. What happens when a numpy array is combined with a single-value operand (a scalar, such as an int or a floating-point value) through addition, as in the expression A + n ?"
   ]
  },
  {
   "cell_type": "code",
   "execution_count": null,
   "id": "848dc461",
   "metadata": {},
   "outputs": [],
   "source": [
    "#Ans_6\n",
    "a scalar + numpy array = all the elements inside the array will add scalar value in it."
   ]
  },
  {
   "cell_type": "code",
   "execution_count": null,
   "id": "91c98427",
   "metadata": {},
   "outputs": [],
   "source": [
    "#Q7. Can array-to-scalar operations use combined operation-assign operators (such as += or *=)? What is the outcome ?"
   ]
  },
  {
   "cell_type": "code",
   "execution_count": null,
   "id": "ae08c68f",
   "metadata": {},
   "outputs": [],
   "source": [
    "#Ans_7\n",
    "It will carry out provided operation on all elements of array."
   ]
  },
  {
   "cell_type": "code",
   "execution_count": null,
   "id": "b829f9a4",
   "metadata": {},
   "outputs": [],
   "source": [
    "#Q8. Does a numpy array contain fixed-length strings? What happens if you allocate a longer string to one of these arrays ?"
   ]
  },
  {
   "cell_type": "code",
   "execution_count": null,
   "id": "53705366",
   "metadata": {},
   "outputs": [],
   "source": [
    "#Ans_8\n",
    "Yes, it is possible. \n",
    "It will discard all the values beyond the maximum length accept upto those values which are under the limit."
   ]
  },
  {
   "cell_type": "code",
   "execution_count": null,
   "id": "8ea536b3",
   "metadata": {},
   "outputs": [],
   "source": [
    "#Q9. What happens when you combine two numpy arrays using an operation like addition (+) or multiplication (*)? What are the conditions for combining two numpy arrays ?"
   ]
  },
  {
   "cell_type": "code",
   "execution_count": null,
   "id": "b4193289",
   "metadata": {},
   "outputs": [],
   "source": [
    "#Ans_9\n",
    "It will do the arithmatic operation to element at is position."
   ]
  },
  {
   "cell_type": "code",
   "execution_count": null,
   "id": "783af431",
   "metadata": {},
   "outputs": [],
   "source": [
    "#Q10. What is the best way to use a Boolean array to mask another array ?"
   ]
  },
  {
   "cell_type": "code",
   "execution_count": null,
   "id": "cb94fca2",
   "metadata": {},
   "outputs": [],
   "source": [
    "#Ans_10\n",
    "Using masked_where() is the best way to use a Boolean array to mask another array."
   ]
  },
  {
   "cell_type": "code",
   "execution_count": null,
   "id": "aa7d5ffb",
   "metadata": {},
   "outputs": [],
   "source": [
    "#Q11. What are three different ways to get the standard deviation of a wide collection of data using both standard Python and its packages? Sort the three of them by how quickly they execute ?"
   ]
  },
  {
   "cell_type": "code",
   "execution_count": null,
   "id": "482c48f7",
   "metadata": {},
   "outputs": [],
   "source": [
    "#Ans_11\n",
    "np.std different ways to get the standard deviation of a wide collection of data"
   ]
  },
  {
   "cell_type": "code",
   "execution_count": null,
   "id": "20f03e0b",
   "metadata": {},
   "outputs": [],
   "source": [
    "#Q12. What is the dimensionality of a Boolean mask-generated array ?"
   ]
  },
  {
   "cell_type": "code",
   "execution_count": null,
   "id": "776d8ff9",
   "metadata": {},
   "outputs": [],
   "source": [
    "#Ans_12\n",
    "It will be of same imension as the input array."
   ]
  },
  {
   "cell_type": "code",
   "execution_count": null,
   "id": "9ef55237",
   "metadata": {},
   "outputs": [],
   "source": []
  }
 ],
 "metadata": {
  "kernelspec": {
   "display_name": "Python 3",
   "language": "python",
   "name": "python3"
  },
  "language_info": {
   "codemirror_mode": {
    "name": "ipython",
    "version": 3
   },
   "file_extension": ".py",
   "mimetype": "text/x-python",
   "name": "python",
   "nbconvert_exporter": "python",
   "pygments_lexer": "ipython3",
   "version": "3.8.8"
  }
 },
 "nbformat": 4,
 "nbformat_minor": 5
}
