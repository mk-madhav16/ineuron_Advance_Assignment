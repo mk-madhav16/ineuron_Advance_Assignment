{
 "cells": [
  {
   "cell_type": "code",
   "execution_count": null,
   "id": "6db91bcc",
   "metadata": {},
   "outputs": [],
   "source": [
    "#Q1. Is an assignment operator like += only for show? Is it possible that it would lead to faster results at the runtime?"
   ]
  },
  {
   "cell_type": "code",
   "execution_count": null,
   "id": "b9639467",
   "metadata": {},
   "outputs": [],
   "source": [
    "#Ans_1\n",
    "This expression makes Python to look for memory holder of a twice but as memory address has to be identified once, \n",
    "+= leads to faster operation."
   ]
  },
  {
   "cell_type": "code",
   "execution_count": null,
   "id": "3626335b",
   "metadata": {},
   "outputs": [],
   "source": [
    "#Q2. What is the smallest no of statements you'd have to write in most programming languages to replace the Python expr a, b = a + b, a ?"
   ]
  },
  {
   "cell_type": "code",
   "execution_count": null,
   "id": "ef57741d",
   "metadata": {},
   "outputs": [],
   "source": [
    "#Ans_2\n",
    "Min number will be 4 "
   ]
  },
  {
   "cell_type": "code",
   "execution_count": null,
   "id": "245a4487",
   "metadata": {},
   "outputs": [],
   "source": [
    "#Q3. In Python, what is the most effective way to set a list of 100 integers to 0?"
   ]
  },
  {
   "cell_type": "code",
   "execution_count": 1,
   "id": "59a2b7a9",
   "metadata": {},
   "outputs": [
    {
     "name": "stdout",
     "output_type": "stream",
     "text": [
      "[0, 0, 0, 0, 0, 0, 0, 0, 0, 0, 0, 0, 0, 0, 0, 0, 0, 0, 0, 0, 0, 0, 0, 0, 0, 0, 0, 0, 0, 0, 0, 0, 0, 0, 0, 0, 0, 0, 0, 0, 0, 0, 0, 0, 0, 0, 0, 0, 0, 0, 0, 0, 0, 0, 0, 0, 0, 0, 0, 0, 0, 0, 0, 0, 0, 0, 0, 0, 0, 0, 0, 0, 0, 0, 0, 0, 0, 0, 0, 0, 0, 0, 0, 0, 0, 0, 0, 0, 0, 0, 0, 0, 0, 0, 0, 0, 0, 0, 0, 0]\n"
     ]
    }
   ],
   "source": [
    "#Ans_3\n",
    "l=[0]*100\n",
    "print(l)"
   ]
  },
  {
   "cell_type": "code",
   "execution_count": null,
   "id": "756673ca",
   "metadata": {},
   "outputs": [],
   "source": [
    "#Q4. What is the most effective way to initialise a list of 99 integers that repeats the sequence 1, 2, 3? S If necessary, show step-by-step instructions on how to accomplish this."
   ]
  },
  {
   "cell_type": "code",
   "execution_count": 3,
   "id": "3f00e1ff",
   "metadata": {},
   "outputs": [
    {
     "name": "stdout",
     "output_type": "stream",
     "text": [
      "[1, 2, 3, 1, 2, 3, 1, 2, 3, 1, 2, 3, 1, 2, 3, 1, 2, 3, 1, 2, 3, 1, 2, 3, 1, 2, 3, 1, 2, 3, 1, 2, 3, 1, 2, 3, 1, 2, 3, 1, 2, 3, 1, 2, 3, 1, 2, 3, 1, 2, 3, 1, 2, 3, 1, 2, 3, 1, 2, 3, 1, 2, 3, 1, 2, 3, 1, 2, 3, 1, 2, 3, 1, 2, 3, 1, 2, 3, 1, 2, 3, 1, 2, 3, 1, 2, 3, 1, 2, 3, 1, 2, 3, 1, 2, 3, 1, 2, 3]\n"
     ]
    }
   ],
   "source": [
    "#Ans_4\n",
    "l=[1,2,3]*33\n",
    "print(l)"
   ]
  },
  {
   "cell_type": "code",
   "execution_count": null,
   "id": "4755944b",
   "metadata": {},
   "outputs": [],
   "source": [
    "#Q5. If you're using IDLE to run a Python application, explain how to print a multidimensional list as efficiently?"
   ]
  },
  {
   "cell_type": "code",
   "execution_count": 6,
   "id": "24745a85",
   "metadata": {},
   "outputs": [
    {
     "name": "stdout",
     "output_type": "stream",
     "text": [
      "1  , 1  , 1  , 2  , 2  , 2  , 3  , 3  , 3  , 4  , 4  , 4  , 55  , 544  , "
     ]
    }
   ],
   "source": [
    "#Ans_5\n",
    "l = [[1,1,1],[2,2,2],[3,3,3,],[4,4,4],[55,544]]\n",
    "\n",
    "for i in range(len(l)):\n",
    "    for b in range(len(l[i])):\n",
    "        print(l[i][b],end=\"  , \")"
   ]
  },
  {
   "cell_type": "code",
   "execution_count": null,
   "id": "739cebab",
   "metadata": {},
   "outputs": [],
   "source": [
    "#Q6. Is it possible to use list comprehension with a string? If so, how can you go about doing it?"
   ]
  },
  {
   "cell_type": "code",
   "execution_count": null,
   "id": "973e0818",
   "metadata": {},
   "outputs": [],
   "source": [
    "#Ans_6\n",
    "Yes it is very possible."
   ]
  },
  {
   "cell_type": "code",
   "execution_count": null,
   "id": "031f3d69",
   "metadata": {},
   "outputs": [],
   "source": [
    "#Q7. From the command line, how do you get support with a user-written Python programme? Is this possible from inside IDLE?"
   ]
  },
  {
   "cell_type": "code",
   "execution_count": null,
   "id": "c8547bc4",
   "metadata": {},
   "outputs": [],
   "source": [
    "#Ans_7\n",
    "start command prompt -> Go to Current working directory -> specify the filename as a command-line"
   ]
  },
  {
   "cell_type": "code",
   "execution_count": null,
   "id": "0b50593e",
   "metadata": {},
   "outputs": [],
   "source": [
    "#Q8. Functions are said to be “first-class objects” in Python but not in most other languages, such as C++ or Java. What can you do in Python with a function (callable object) that you can&#39;t do in C or C++?"
   ]
  },
  {
   "cell_type": "code",
   "execution_count": null,
   "id": "4acce559",
   "metadata": {},
   "outputs": [],
   "source": [
    "#Ans_8\n",
    "We can store the function in a variable.\n",
    "We can pass the function as a parameter to another function.\n",
    "We can return the function from a function."
   ]
  },
  {
   "cell_type": "code",
   "execution_count": null,
   "id": "74bc66e4",
   "metadata": {},
   "outputs": [],
   "source": [
    "#Q9. How do you distinguish between a wrapper, a wrapped feature, and a decorator?"
   ]
  },
  {
   "cell_type": "code",
   "execution_count": null,
   "id": "6d08c1fb",
   "metadata": {},
   "outputs": [],
   "source": [
    "#Ans_9\n",
    "Decorators are just wrappers around a function"
   ]
  },
  {
   "cell_type": "code",
   "execution_count": null,
   "id": "f93f590d",
   "metadata": {},
   "outputs": [],
   "source": [
    "#Q10. If a function is a generator function, what does it return?"
   ]
  },
  {
   "cell_type": "code",
   "execution_count": null,
   "id": "6a1a963d",
   "metadata": {},
   "outputs": [],
   "source": [
    "#Ans_10\n",
    "It returns an iterator object with a sequence of values"
   ]
  },
  {
   "cell_type": "code",
   "execution_count": null,
   "id": "61f5a0f5",
   "metadata": {},
   "outputs": [],
   "source": [
    "#Q11. What is the one improvement that must be made to a function in order for it to become a generator function in the Python language?"
   ]
  },
  {
   "cell_type": "code",
   "execution_count": null,
   "id": "6586bf8d",
   "metadata": {},
   "outputs": [],
   "source": [
    "#Ans_11\n",
    "Generator is a written as normal function but uses yield keyword to return values instead of return keyword."
   ]
  },
  {
   "cell_type": "code",
   "execution_count": null,
   "id": "49a24944",
   "metadata": {},
   "outputs": [],
   "source": [
    "#Q12. Identify at least one benefit of generators."
   ]
  },
  {
   "cell_type": "code",
   "execution_count": null,
   "id": "3f2a7502",
   "metadata": {},
   "outputs": [],
   "source": [
    "#Ans_12\n",
    "•Adds further brevity and readability to written code. Generator expressions are generator functions shortened."
   ]
  },
  {
   "cell_type": "code",
   "execution_count": null,
   "id": "4e18e773",
   "metadata": {},
   "outputs": [],
   "source": []
  }
 ],
 "metadata": {
  "kernelspec": {
   "display_name": "Python 3",
   "language": "python",
   "name": "python3"
  },
  "language_info": {
   "codemirror_mode": {
    "name": "ipython",
    "version": 3
   },
   "file_extension": ".py",
   "mimetype": "text/x-python",
   "name": "python",
   "nbconvert_exporter": "python",
   "pygments_lexer": "ipython3",
   "version": "3.8.8"
  }
 },
 "nbformat": 4,
 "nbformat_minor": 5
}
