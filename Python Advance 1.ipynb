{
 "cells": [
  {
   "cell_type": "code",
   "execution_count": null,
   "id": "3d10a786",
   "metadata": {},
   "outputs": [],
   "source": [
    "#Q1. What is the purpose of Pythons OOP?"
   ]
  },
  {
   "cell_type": "code",
   "execution_count": null,
   "id": "1bddace6",
   "metadata": {},
   "outputs": [],
   "source": [
    "#Ans_1\n",
    "• It helps in creating code with inheritance, polymorphisms, encapsulation\n",
    "• Helps divide pogramme into segments\n",
    "• Make code easy to maintain\n",
    "• Make code easy to modify\n",
    "• Use class and object"
   ]
  },
  {
   "cell_type": "code",
   "execution_count": null,
   "id": "3599c019",
   "metadata": {},
   "outputs": [],
   "source": [
    "#Q2. Where does an inheritance search look for an attribute?"
   ]
  },
  {
   "cell_type": "code",
   "execution_count": null,
   "id": "67891f3b",
   "metadata": {},
   "outputs": [],
   "source": [
    "#Ans_2\n",
    "A class inherits all the methods and properties from another class. \n",
    "Parent class is the class being inherited from, also called base class. \n",
    "Child class is the class that inherits from another class, also called derived class."
   ]
  },
  {
   "cell_type": "code",
   "execution_count": null,
   "id": "29b8457b",
   "metadata": {},
   "outputs": [],
   "source": [
    "#Q3. How do you distinguish between a class object and an instance object?"
   ]
  },
  {
   "cell_type": "code",
   "execution_count": null,
   "id": "e7c2cd98",
   "metadata": {},
   "outputs": [],
   "source": [
    "#Ans_3\n",
    "• The most basic difference is that Class is a template for creating objects while object is an instance of class.\n",
    "• Class can not be manipulated while object can be manipulated.\n",
    "• Class can only be created once and many objects can be created for one class."
   ]
  },
  {
   "cell_type": "code",
   "execution_count": null,
   "id": "e743468b",
   "metadata": {},
   "outputs": [],
   "source": [
    "#Q4. What makes the first argument in a class’s method function special?"
   ]
  },
  {
   "cell_type": "code",
   "execution_count": null,
   "id": "75f0427b",
   "metadata": {},
   "outputs": [],
   "source": [
    "#Ans_4\n",
    "self is the first argument for instance methods. which refers to the object itself hence make it special."
   ]
  },
  {
   "cell_type": "code",
   "execution_count": null,
   "id": "b8a3705a",
   "metadata": {},
   "outputs": [],
   "source": [
    "#Q5. What is the purpose of the init method?"
   ]
  },
  {
   "cell_type": "code",
   "execution_count": null,
   "id": "60373ff4",
   "metadata": {},
   "outputs": [],
   "source": [
    "#Ans_5\n",
    "__init__ is a constructor in python oops\n",
    "It helps initialize the attribute of the class"
   ]
  },
  {
   "cell_type": "code",
   "execution_count": null,
   "id": "a2827e22",
   "metadata": {},
   "outputs": [],
   "source": [
    "#Q6. What is the process for creating a class instance?"
   ]
  },
  {
   "cell_type": "code",
   "execution_count": null,
   "id": "437e6f62",
   "metadata": {},
   "outputs": [],
   "source": [
    "#Ans_6\n",
    "• Call class\n",
    "• pass the argument"
   ]
  },
  {
   "cell_type": "code",
   "execution_count": null,
   "id": "75977353",
   "metadata": {},
   "outputs": [],
   "source": [
    "#Q7. What is the process for creating a class?"
   ]
  },
  {
   "cell_type": "code",
   "execution_count": null,
   "id": "fba22f0e",
   "metadata": {},
   "outputs": [],
   "source": [
    "#Ans_7\n",
    "Class keyword is used\n",
    "Syntax - class keyword_name"
   ]
  },
  {
   "cell_type": "code",
   "execution_count": null,
   "id": "20d6b6d1",
   "metadata": {},
   "outputs": [],
   "source": [
    "#Q8. How would you define the superclasses of a class?"
   ]
  },
  {
   "cell_type": "code",
   "execution_count": null,
   "id": "1dcd764c",
   "metadata": {},
   "outputs": [],
   "source": [
    "#Ans_8\n",
    "superclass is created as an argument to the child class."
   ]
  },
  {
   "cell_type": "code",
   "execution_count": null,
   "id": "048ebdef",
   "metadata": {},
   "outputs": [],
   "source": []
  }
 ],
 "metadata": {
  "kernelspec": {
   "display_name": "Python 3",
   "language": "python",
   "name": "python3"
  },
  "language_info": {
   "codemirror_mode": {
    "name": "ipython",
    "version": 3
   },
   "file_extension": ".py",
   "mimetype": "text/x-python",
   "name": "python",
   "nbconvert_exporter": "python",
   "pygments_lexer": "ipython3",
   "version": "3.8.8"
  }
 },
 "nbformat": 4,
 "nbformat_minor": 5
}
