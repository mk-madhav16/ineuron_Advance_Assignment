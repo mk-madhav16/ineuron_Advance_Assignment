{
 "cells": [
  {
   "cell_type": "code",
   "execution_count": null,
   "id": "b455cacb",
   "metadata": {},
   "outputs": [],
   "source": [
    "#Q1. Describe three applications for exception processing."
   ]
  },
  {
   "cell_type": "code",
   "execution_count": null,
   "id": "e066bd09",
   "metadata": {},
   "outputs": [],
   "source": [
    "#Ans_1\n",
    "• Helps in avoiding system getting crashed.\n",
    "• Checking for Arithmetic exceptions in mathematical executions\n",
    "• Helps reporting error"
   ]
  },
  {
   "cell_type": "code",
   "execution_count": null,
   "id": "ed481849",
   "metadata": {},
   "outputs": [],
   "source": [
    "#Q2. What happens if you don't do something extra to treat an exception?"
   ]
  },
  {
   "cell_type": "code",
   "execution_count": null,
   "id": "dbb2afd4",
   "metadata": {},
   "outputs": [],
   "source": [
    "#Ans_2\n",
    "It will cause disruption in the flow of programme and in result will cost us by crashing of programme."
   ]
  },
  {
   "cell_type": "code",
   "execution_count": null,
   "id": "44d1ab1e",
   "metadata": {},
   "outputs": [],
   "source": [
    "#Q3. What are your options for recovering from an exception in your script?"
   ]
  },
  {
   "cell_type": "code",
   "execution_count": null,
   "id": "22071e03",
   "metadata": {},
   "outputs": [],
   "source": [
    "#Ans_3\n",
    "The options are using try and except statement."
   ]
  },
  {
   "cell_type": "code",
   "execution_count": null,
   "id": "049a113d",
   "metadata": {},
   "outputs": [],
   "source": [
    "#Q4. Describe two methods for triggering exceptions in your script."
   ]
  },
  {
   "cell_type": "code",
   "execution_count": null,
   "id": "f8e93b3d",
   "metadata": {},
   "outputs": [],
   "source": [
    "#Ans_4\n",
    "• throw statement\n",
    "• raise statement"
   ]
  },
  {
   "cell_type": "code",
   "execution_count": null,
   "id": "360dd09d",
   "metadata": {},
   "outputs": [],
   "source": [
    "#Q5. Identify two methods for specifying actions to be executed at termination time, regardless of whether or not an exception exists."
   ]
  },
  {
   "cell_type": "code",
   "execution_count": null,
   "id": "2e393edd",
   "metadata": {},
   "outputs": [],
   "source": [
    "#Ans_5\n",
    "• else statement\n",
    "• finally statement"
   ]
  },
  {
   "cell_type": "code",
   "execution_count": null,
   "id": "0abe63e1",
   "metadata": {},
   "outputs": [],
   "source": []
  }
 ],
 "metadata": {
  "kernelspec": {
   "display_name": "Python 3",
   "language": "python",
   "name": "python3"
  },
  "language_info": {
   "codemirror_mode": {
    "name": "ipython",
    "version": 3
   },
   "file_extension": ".py",
   "mimetype": "text/x-python",
   "name": "python",
   "nbconvert_exporter": "python",
   "pygments_lexer": "ipython3",
   "version": "3.8.8"
  }
 },
 "nbformat": 4,
 "nbformat_minor": 5
}
