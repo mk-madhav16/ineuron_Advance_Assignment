{
 "cells": [
  {
   "cell_type": "code",
   "execution_count": null,
   "id": "1bf4ffe7",
   "metadata": {},
   "outputs": [],
   "source": [
    "#1. What are the new features added in Python 3.8 version?"
   ]
  },
  {
   "cell_type": "code",
   "execution_count": null,
   "id": "0694dfe1",
   "metadata": {},
   "outputs": [],
   "source": [
    "#Ans_1\n",
    "• It allows the use of the above-discussed assignment operator and equal sign (=) inside the f-strings.\n",
    "• There is a new function parameter syntax (/) to highlight that some of the functions must be stated positionally."
   ]
  },
  {
   "cell_type": "code",
   "execution_count": null,
   "id": "132285ee",
   "metadata": {},
   "outputs": [],
   "source": [
    "#2. What is monkey patching in Python?"
   ]
  },
  {
   "cell_type": "code",
   "execution_count": null,
   "id": "ef1d52e2",
   "metadata": {},
   "outputs": [],
   "source": [
    "#Ans_2\n",
    "Term monkey patch refers to dynamic (or run-time) modifications of a class or module."
   ]
  },
  {
   "cell_type": "code",
   "execution_count": null,
   "id": "135d9046",
   "metadata": {},
   "outputs": [],
   "source": [
    "#3. What is the difference between a shallow copy and deep copy?"
   ]
  },
  {
   "cell_type": "code",
   "execution_count": null,
   "id": "69cdd957",
   "metadata": {},
   "outputs": [],
   "source": [
    "#Ans_3\n",
    "Shallow copy - as changes made in copied object will also make corresponding changes in original object.\n",
    "Deep copy - as changes made in copied object will not make corresponding changes in original object."
   ]
  },
  {
   "cell_type": "code",
   "execution_count": null,
   "id": "7ca55ed9",
   "metadata": {},
   "outputs": [],
   "source": [
    "#4. What is the maximum possible length of an identifier?"
   ]
  },
  {
   "cell_type": "code",
   "execution_count": null,
   "id": "7d0dd396",
   "metadata": {},
   "outputs": [],
   "source": [
    "#Ans_4\n",
    "The maximum possible length of an identifier can be 79 characters"
   ]
  },
  {
   "cell_type": "code",
   "execution_count": null,
   "id": "540f7216",
   "metadata": {},
   "outputs": [],
   "source": [
    "#5. What is generator comprehension?"
   ]
  },
  {
   "cell_type": "code",
   "execution_count": null,
   "id": "de5e0f57",
   "metadata": {},
   "outputs": [],
   "source": [
    "#Ans_5\n",
    "A generator comprehension is a single-line specification for defining a generator in Python."
   ]
  },
  {
   "cell_type": "code",
   "execution_count": null,
   "id": "e5d2ac10",
   "metadata": {},
   "outputs": [],
   "source": []
  }
 ],
 "metadata": {
  "kernelspec": {
   "display_name": "Python 3",
   "language": "python",
   "name": "python3"
  },
  "language_info": {
   "codemirror_mode": {
    "name": "ipython",
    "version": 3
   },
   "file_extension": ".py",
   "mimetype": "text/x-python",
   "name": "python",
   "nbconvert_exporter": "python",
   "pygments_lexer": "ipython3",
   "version": "3.8.8"
  }
 },
 "nbformat": 4,
 "nbformat_minor": 5
}
