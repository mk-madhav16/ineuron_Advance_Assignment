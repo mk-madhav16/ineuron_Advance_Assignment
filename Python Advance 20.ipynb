{
 "cells": [
  {
   "cell_type": "code",
   "execution_count": null,
   "id": "20d933c0",
   "metadata": {},
   "outputs": [],
   "source": [
    "#1. Compare and contrast the float and Decimal classes&#39; benefits and drawbacks."
   ]
  },
  {
   "cell_type": "code",
   "execution_count": null,
   "id": "777cd155",
   "metadata": {},
   "outputs": [],
   "source": [
    "#Ans_1\n",
    "A float gives you an approximation of the number you declare.\n",
    "Decimals can suffer from their own precision issues."
   ]
  },
  {
   "cell_type": "code",
   "execution_count": null,
   "id": "3b3231ec",
   "metadata": {},
   "outputs": [],
   "source": [
    "#2. Decimal('1.200') and Decimal('1.2') are two objects to consider. In what sense are these the same object? Are these just two ways of representing the exact same value, or do they correspond to different internal states ?"
   ]
  },
  {
   "cell_type": "code",
   "execution_count": null,
   "id": "d499a038",
   "metadata": {},
   "outputs": [],
   "source": [
    "#Ans_2\n",
    "Both values are same but internal representation at storage Is different.\n",
    "No, there is a precision difference."
   ]
  },
  {
   "cell_type": "code",
   "execution_count": null,
   "id": "9a7660ab",
   "metadata": {},
   "outputs": [],
   "source": [
    "#3. What happens if the equality of Decimal('1.200') and Decimal('1.2') is checked ?"
   ]
  },
  {
   "cell_type": "code",
   "execution_count": null,
   "id": "59becace",
   "metadata": {},
   "outputs": [],
   "source": [
    "#Ans_3\n",
    "They only differ in precision."
   ]
  },
  {
   "cell_type": "code",
   "execution_count": null,
   "id": "1f6d1dc6",
   "metadata": {},
   "outputs": [],
   "source": [
    "#4. Why is it preferable to start a Decimal object with a string rather than a floating-point value ?"
   ]
  },
  {
   "cell_type": "code",
   "execution_count": null,
   "id": "68076415",
   "metadata": {},
   "outputs": [],
   "source": [
    "#Ans_4\n",
    "Decimal can store float value with absolute precision but when float value is given as Decimal object,it first has to be converted from floating point value which might already have rounding error.\n",
    "Therefore, it is preferable to start a Decimal object with a string rather than a floating-point value."
   ]
  },
  {
   "cell_type": "code",
   "execution_count": null,
   "id": "a5712d26",
   "metadata": {},
   "outputs": [],
   "source": [
    "#5. In an arithmetic phrase, how simple is it to combine Decimal objects with integers ?"
   ]
  },
  {
   "cell_type": "code",
   "execution_count": null,
   "id": "1948a7df",
   "metadata": {},
   "outputs": [],
   "source": [
    "#Ans_5\n",
    "By using Dicimal()"
   ]
  },
  {
   "cell_type": "code",
   "execution_count": null,
   "id": "7badee47",
   "metadata": {},
   "outputs": [],
   "source": [
    "#6. Can Decimal objects and floating-point values be combined easily ?"
   ]
  },
  {
   "cell_type": "code",
   "execution_count": null,
   "id": "b069a967",
   "metadata": {},
   "outputs": [],
   "source": [
    "#Ans_6\n",
    "The floating point has to be converted to a Decimal then we can combine them."
   ]
  },
  {
   "cell_type": "code",
   "execution_count": null,
   "id": "54d31e63",
   "metadata": {},
   "outputs": [],
   "source": [
    "#7. Using the Fraction class but not the Decimal class, give an example of a quantity that can be expressed with absolute precision ?"
   ]
  },
  {
   "cell_type": "code",
   "execution_count": null,
   "id": "717ba0db",
   "metadata": {},
   "outputs": [],
   "source": [
    "#Ans_7\n",
    "Value of 2.5 can be represented as ½."
   ]
  },
  {
   "cell_type": "code",
   "execution_count": null,
   "id": "a099c12e",
   "metadata": {},
   "outputs": [],
   "source": [
    "#8. Describe a quantity that can be accurately expressed by the Decimal or Fraction classes but not by a floating-point value."
   ]
  },
  {
   "cell_type": "code",
   "execution_count": null,
   "id": "ccdf94de",
   "metadata": {},
   "outputs": [],
   "source": [
    "#Ans_8\n",
    "0.1 can be accurately expressed by the Decimal or Fraction classes but not by a floating-point value."
   ]
  },
  {
   "cell_type": "code",
   "execution_count": null,
   "id": "4db77dc5",
   "metadata": {},
   "outputs": [],
   "source": [
    "#Q9.Consider the following two fraction objects: Fraction(1, 2) and Fraction(1, 2). (5, 10). Is the internal state of these two objects the same? Why do you think that is?"
   ]
  },
  {
   "cell_type": "code",
   "execution_count": null,
   "id": "7129ff9f",
   "metadata": {},
   "outputs": [],
   "source": [
    "#Ans_9\n",
    "Both of them will get reduced to half i.e. 1/2"
   ]
  },
  {
   "cell_type": "code",
   "execution_count": null,
   "id": "7bba794f",
   "metadata": {},
   "outputs": [],
   "source": [
    "#Q10. How do the Fraction class and the integer type (int) relate to each other? Containment or inheritance?"
   ]
  },
  {
   "cell_type": "code",
   "execution_count": null,
   "id": "b434be36",
   "metadata": {},
   "outputs": [],
   "source": [
    "#Ans_10\n",
    "Fraction class and integer type(int) are related in form of a container.\n",
    "It contains two ints, one the numerator and the other the denominator"
   ]
  },
  {
   "cell_type": "code",
   "execution_count": null,
   "id": "4bd4fd9a",
   "metadata": {},
   "outputs": [],
   "source": []
  }
 ],
 "metadata": {
  "kernelspec": {
   "display_name": "Python 3",
   "language": "python",
   "name": "python3"
  },
  "language_info": {
   "codemirror_mode": {
    "name": "ipython",
    "version": 3
   },
   "file_extension": ".py",
   "mimetype": "text/x-python",
   "name": "python",
   "nbconvert_exporter": "python",
   "pygments_lexer": "ipython3",
   "version": "3.8.8"
  }
 },
 "nbformat": 4,
 "nbformat_minor": 5
}
