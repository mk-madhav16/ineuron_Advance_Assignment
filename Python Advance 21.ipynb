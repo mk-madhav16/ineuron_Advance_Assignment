{
 "cells": [
  {
   "cell_type": "code",
   "execution_count": null,
   "id": "c70d3464",
   "metadata": {},
   "outputs": [],
   "source": [
    "#Q1. What is a probability distribution, exactly? If the values are meant to be random, how can you predict them at all?"
   ]
  },
  {
   "cell_type": "code",
   "execution_count": null,
   "id": "ea6904a3",
   "metadata": {},
   "outputs": [],
   "source": [
    "#Ans_1\n",
    "How a random variable is distributed is a probability distribution chart.\n",
    "Based on the previous data and the occurences of the random event, we can predict the outcome and its probabilities."
   ]
  },
  {
   "cell_type": "code",
   "execution_count": null,
   "id": "6f335613",
   "metadata": {},
   "outputs": [],
   "source": [
    "#Q2. Is there a distinction between true random numbers and pseudo-random numbers, if there is one? Why are the latter considered “good enough”?"
   ]
  },
  {
   "cell_type": "code",
   "execution_count": null,
   "id": "412cb66b",
   "metadata": {},
   "outputs": [],
   "source": [
    "#Ans_2\n",
    "True Random Numbers are true physical values.\n",
    "Pseudo-random numbers is considered good enough as they have sort of uniform distribution."
   ]
  },
  {
   "cell_type": "code",
   "execution_count": null,
   "id": "710739ca",
   "metadata": {},
   "outputs": [],
   "source": [
    "#Q3. What are the two main factors that influence the behaviour of a \"normal\" probability distribution ?"
   ]
  },
  {
   "cell_type": "code",
   "execution_count": null,
   "id": "84cf0a4c",
   "metadata": {},
   "outputs": [],
   "source": [
    "#Ans_3\n",
    "Mean, mode, varience"
   ]
  },
  {
   "cell_type": "code",
   "execution_count": null,
   "id": "7ed13834",
   "metadata": {},
   "outputs": [],
   "source": [
    "#Q4. Provide a real-life example of a normal distribution ?"
   ]
  },
  {
   "cell_type": "code",
   "execution_count": null,
   "id": "5767b17b",
   "metadata": {},
   "outputs": [],
   "source": [
    "#Ans_4\n",
    "Weight of student in a class"
   ]
  },
  {
   "cell_type": "code",
   "execution_count": null,
   "id": "972676ef",
   "metadata": {},
   "outputs": [],
   "source": [
    "#Q5. In the short term, how can you expect a probability distribution to behave? What do you think will happen as the number of trials grows ?"
   ]
  },
  {
   "cell_type": "code",
   "execution_count": null,
   "id": "01007482",
   "metadata": {},
   "outputs": [],
   "source": [
    "#Ans_5\n",
    "number of trials grows will decrese as the varience will be decresing."
   ]
  },
  {
   "cell_type": "code",
   "execution_count": null,
   "id": "e4d79e39",
   "metadata": {},
   "outputs": [],
   "source": [
    "#Q6. What kind of object can be shuffled by using random.shuffle ?"
   ]
  },
  {
   "cell_type": "code",
   "execution_count": 1,
   "id": "9f6b169e",
   "metadata": {},
   "outputs": [],
   "source": [
    "#Ans_6\n",
    "tuple(), list"
   ]
  },
  {
   "cell_type": "code",
   "execution_count": null,
   "id": "c432a9d6",
   "metadata": {},
   "outputs": [],
   "source": [
    "#Q7. Describe the math package's general categories of functions ?"
   ]
  },
  {
   "cell_type": "code",
   "execution_count": null,
   "id": "78406d51",
   "metadata": {},
   "outputs": [],
   "source": [
    "#Ans_7\n",
    "Hyperbolic functions\n",
    "Conversions to Integer\n",
    "Arithmetic functions"
   ]
  },
  {
   "cell_type": "code",
   "execution_count": null,
   "id": "7bec0f0b",
   "metadata": {},
   "outputs": [],
   "source": [
    "#Q8. What is the relationship between exponentiation and logarithms ?"
   ]
  },
  {
   "cell_type": "code",
   "execution_count": null,
   "id": "94ae2063",
   "metadata": {},
   "outputs": [],
   "source": [
    "#Ans_8\n",
    "They are inversely proportional to each other."
   ]
  },
  {
   "cell_type": "code",
   "execution_count": null,
   "id": "9f943a22",
   "metadata": {},
   "outputs": [],
   "source": [
    "#Q9. What are the three logarithmic functions that Python supports ?"
   ]
  },
  {
   "cell_type": "code",
   "execution_count": null,
   "id": "c2438aee",
   "metadata": {},
   "outputs": [],
   "source": [
    "#Ans_9\n",
    "log2(x), log10(x), log1p(a)"
   ]
  },
  {
   "cell_type": "code",
   "execution_count": null,
   "id": "5cfc6178",
   "metadata": {},
   "outputs": [],
   "source": []
  }
 ],
 "metadata": {
  "kernelspec": {
   "display_name": "Python 3",
   "language": "python",
   "name": "python3"
  },
  "language_info": {
   "codemirror_mode": {
    "name": "ipython",
    "version": 3
   },
   "file_extension": ".py",
   "mimetype": "text/x-python",
   "name": "python",
   "nbconvert_exporter": "python",
   "pygments_lexer": "ipython3",
   "version": "3.8.8"
  }
 },
 "nbformat": 4,
 "nbformat_minor": 5
}
