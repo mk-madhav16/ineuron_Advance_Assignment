{
 "cells": [
  {
   "cell_type": "code",
   "execution_count": null,
   "id": "718299ac",
   "metadata": {},
   "outputs": [],
   "source": [
    "#Q1. Define the relationship between a class and its instances. Is it a one-to-one or a one-to-many partnership, for example?"
   ]
  },
  {
   "cell_type": "code",
   "execution_count": null,
   "id": "4278c072",
   "metadata": {},
   "outputs": [],
   "source": [
    "#Ans_1\n",
    "Relationship among a class and its instances is a one to many partnership."
   ]
  },
  {
   "cell_type": "code",
   "execution_count": null,
   "id": "cc7243da",
   "metadata": {},
   "outputs": [],
   "source": [
    "#Q2. What kind of data is held only in an instance?"
   ]
  },
  {
   "cell_type": "code",
   "execution_count": null,
   "id": "24666331",
   "metadata": {},
   "outputs": [],
   "source": [
    "#Ans_2\n",
    "It has the Instance variables which are specific to that Instance object."
   ]
  },
  {
   "cell_type": "code",
   "execution_count": null,
   "id": "015f3847",
   "metadata": {},
   "outputs": [],
   "source": [
    "#Q3. What kind of knowledge is stored in a class?"
   ]
  },
  {
   "cell_type": "code",
   "execution_count": null,
   "id": "d8c6de50",
   "metadata": {},
   "outputs": [],
   "source": [
    "#Ans_3\n",
    "It holds its own data members and member functions."
   ]
  },
  {
   "cell_type": "code",
   "execution_count": null,
   "id": "a4049379",
   "metadata": {},
   "outputs": [],
   "source": [
    "#Q4. What exactly is a method, and how is it different from a regular function?"
   ]
  },
  {
   "cell_type": "code",
   "execution_count": null,
   "id": "9d7e4025",
   "metadata": {},
   "outputs": [],
   "source": [
    "#Ans_4\n",
    "The methods with a Class can be used to access the insatnce variables of its instance. So,the objects state can be modified by its method. \n",
    "Function cant access the attributes of an instance of a class or cant modify the state of the object."
   ]
  },
  {
   "cell_type": "code",
   "execution_count": null,
   "id": "868343d6",
   "metadata": {},
   "outputs": [],
   "source": [
    "#Q5. Is inheritance supported in Python, and if so, what is the syntax?"
   ]
  },
  {
   "cell_type": "code",
   "execution_count": null,
   "id": "2bd01a9a",
   "metadata": {},
   "outputs": [],
   "source": [
    "#Ans_5\n",
    "Yes,inheritance is supported in Python."
   ]
  },
  {
   "cell_type": "code",
   "execution_count": null,
   "id": "1adfecfd",
   "metadata": {},
   "outputs": [],
   "source": [
    "class class1:  \n",
    "    <class-suite>   \n",
    "class class2(class1):  \n",
    "    <class suite> "
   ]
  },
  {
   "cell_type": "code",
   "execution_count": null,
   "id": "66b7e8b8",
   "metadata": {},
   "outputs": [],
   "source": [
    "#Q6. How much encapsulation (making instance or class variables private) does Python support?"
   ]
  },
  {
   "cell_type": "code",
   "execution_count": null,
   "id": "929b4914",
   "metadata": {},
   "outputs": [],
   "source": [
    "#Ans_6\n",
    "Encapsulation puts restrictions on accessing variables and methods directly and can prevent the accidental modification of data."
   ]
  },
  {
   "cell_type": "code",
   "execution_count": null,
   "id": "28bdad9c",
   "metadata": {},
   "outputs": [],
   "source": [
    "#Q7. How do you distinguish between a class variable and an instance variable?"
   ]
  },
  {
   "cell_type": "code",
   "execution_count": null,
   "id": "73a3fffd",
   "metadata": {},
   "outputs": [],
   "source": [
    "#Ans_7\n",
    "A single copy of Class attributes is maintained at the class level. \n",
    "Whereas different copies of instance attributes are maintained at instance level."
   ]
  },
  {
   "cell_type": "code",
   "execution_count": null,
   "id": "93e96bad",
   "metadata": {},
   "outputs": [],
   "source": [
    "#Q8. When, if ever, can self be included in a class's method definitions?"
   ]
  },
  {
   "cell_type": "code",
   "execution_count": null,
   "id": "676cde4d",
   "metadata": {},
   "outputs": [],
   "source": [
    "#Ans_8\n",
    "Yes, self be included in a Class method definitions"
   ]
  },
  {
   "cell_type": "code",
   "execution_count": null,
   "id": "7447eb4b",
   "metadata": {},
   "outputs": [],
   "source": [
    "#Q9. What is the difference between the __add__ and the __radd__ methods ?"
   ]
  },
  {
   "cell_type": "code",
   "execution_count": null,
   "id": "c44381ae",
   "metadata": {},
   "outputs": [],
   "source": [
    "#Ans_9\n",
    "__radd__ is called if the left object does not have an __add__ method, or that method does not know how to add the two objects."
   ]
  },
  {
   "cell_type": "code",
   "execution_count": null,
   "id": "a46ea5e8",
   "metadata": {},
   "outputs": [],
   "source": [
    "#Q10. When is it necessary to use a reflection method? When do you not need it, even though you support the operation in question?"
   ]
  },
  {
   "cell_type": "code",
   "execution_count": null,
   "id": "0b211f76",
   "metadata": {},
   "outputs": [],
   "source": [
    "#Ans_10\n",
    "Reflection method encounters the requirement that a method in the executing object, or a variable in the calling object should be assigned."
   ]
  },
  {
   "cell_type": "code",
   "execution_count": null,
   "id": "674beab7",
   "metadata": {},
   "outputs": [],
   "source": [
    "#Q11. What is the __iadd__ method called?"
   ]
  },
  {
   "cell_type": "code",
   "execution_count": null,
   "id": "fe908961",
   "metadata": {},
   "outputs": [],
   "source": [
    "#Ans_11\n",
    "e use implementation like x+=y which is x.__iadd__(y)"
   ]
  },
  {
   "cell_type": "code",
   "execution_count": null,
   "id": "195addeb",
   "metadata": {},
   "outputs": [],
   "source": [
    "#Q12. Is the __init__ method inherited by subclasses? What do you do if you need to customize its behavior within a subclass?"
   ]
  },
  {
   "cell_type": "code",
   "execution_count": null,
   "id": "2b50bc6d",
   "metadata": {},
   "outputs": [],
   "source": [
    "#Ans_12\n",
    "Yes and we need to customize its behaviour within a subclass we can use super() method."
   ]
  },
  {
   "cell_type": "code",
   "execution_count": null,
   "id": "f8743276",
   "metadata": {},
   "outputs": [],
   "source": []
  }
 ],
 "metadata": {
  "kernelspec": {
   "display_name": "Python 3",
   "language": "python",
   "name": "python3"
  },
  "language_info": {
   "codemirror_mode": {
    "name": "ipython",
    "version": 3
   },
   "file_extension": ".py",
   "mimetype": "text/x-python",
   "name": "python",
   "nbconvert_exporter": "python",
   "pygments_lexer": "ipython3",
   "version": "3.8.8"
  }
 },
 "nbformat": 4,
 "nbformat_minor": 5
}
