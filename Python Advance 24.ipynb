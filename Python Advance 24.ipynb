{
 "cells": [
  {
   "cell_type": "code",
   "execution_count": null,
   "id": "d6b38525",
   "metadata": {},
   "outputs": [],
   "source": [
    "#Q1. Is it permissible to use several import statements to import the same module? What would the goal be? Can you think of a situation where it would be beneficial ?"
   ]
  },
  {
   "cell_type": "code",
   "execution_count": null,
   "id": "e684f270",
   "metadata": {},
   "outputs": [],
   "source": [
    "#Ans_1\n",
    "Yes, it is allowed. It is used when we need to import several module from one package."
   ]
  },
  {
   "cell_type": "code",
   "execution_count": null,
   "id": "47bbfa78",
   "metadata": {},
   "outputs": [],
   "source": [
    "#Q2. What are some of a module's characteristics? (Name at least one.)"
   ]
  },
  {
   "cell_type": "code",
   "execution_count": null,
   "id": "95673eda",
   "metadata": {},
   "outputs": [],
   "source": [
    "#Ans_1\n",
    "__doc__ , __file__"
   ]
  },
  {
   "cell_type": "code",
   "execution_count": null,
   "id": "29718e88",
   "metadata": {},
   "outputs": [],
   "source": [
    "#Q3. Circular importing, such as when two modules import each other, can lead to dependencies and bugs that aren't visible. How can you go about creating a program that avoids mutual importing?"
   ]
  },
  {
   "cell_type": "code",
   "execution_count": null,
   "id": "5343e5aa",
   "metadata": {},
   "outputs": [],
   "source": [
    "#Ans_3\n",
    "Circular importing means importing the two modules in each other. If suppose we are wokring in MOD1.py file and it is importing some function say F2() from some other module say MOD2.PY file or we can do vice-versa.\n",
    "There is a good workaround Python circular import error that you can import the module itself rather than importing object/function from the module."
   ]
  },
  {
   "cell_type": "code",
   "execution_count": null,
   "id": "7f03fd5e",
   "metadata": {},
   "outputs": [],
   "source": [
    "#Q4. Why is __all__ in Python ?"
   ]
  },
  {
   "cell_type": "code",
   "execution_count": null,
   "id": "fe2f0bb0",
   "metadata": {},
   "outputs": [],
   "source": [
    "#Ans_4\n",
    "It shows all modules present"
   ]
  },
  {
   "cell_type": "code",
   "execution_count": null,
   "id": "04313d59",
   "metadata": {},
   "outputs": [],
   "source": [
    "#Q5. In what situation is it useful to refer to the __name__ attribute or the string __main__ ?"
   ]
  },
  {
   "cell_type": "code",
   "execution_count": null,
   "id": "79319984",
   "metadata": {},
   "outputs": [],
   "source": [
    "#Ans_5\n",
    "It is useful when moudle is being imported from some other module then name will have the name of that moudle from where the current module has been imported."
   ]
  },
  {
   "cell_type": "code",
   "execution_count": null,
   "id": "dd213842",
   "metadata": {},
   "outputs": [],
   "source": [
    "#Q6. What are some of the benefits of attaching a program counter to the RPN interpreter application, which interprets an RPN script line by line?"
   ]
  },
  {
   "cell_type": "code",
   "execution_count": null,
   "id": "de10050d",
   "metadata": {},
   "outputs": [],
   "source": [
    "#Ans_6\n",
    "• RPN eliminates the need for parentheses  \n",
    "• It reduces keystrokes so users can complete calculations more quickly and efficiently."
   ]
  },
  {
   "cell_type": "code",
   "execution_count": null,
   "id": "bbd5a7a6",
   "metadata": {},
   "outputs": [],
   "source": []
  }
 ],
 "metadata": {
  "kernelspec": {
   "display_name": "Python 3",
   "language": "python",
   "name": "python3"
  },
  "language_info": {
   "codemirror_mode": {
    "name": "ipython",
    "version": 3
   },
   "file_extension": ".py",
   "mimetype": "text/x-python",
   "name": "python",
   "nbconvert_exporter": "python",
   "pygments_lexer": "ipython3",
   "version": "3.8.8"
  }
 },
 "nbformat": 4,
 "nbformat_minor": 5
}
