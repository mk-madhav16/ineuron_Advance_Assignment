{
 "cells": [
  {
   "cell_type": "code",
   "execution_count": null,
   "id": "de11ab38",
   "metadata": {},
   "outputs": [],
   "source": [
    "#Q1. What is the distinction between a numpy array and a pandas data frame? Is there a way to convert between the two if there is?"
   ]
  },
  {
   "cell_type": "code",
   "execution_count": null,
   "id": "5e52c514",
   "metadata": {},
   "outputs": [],
   "source": [
    "#Ans_1\n",
    "Numpy Ndarray - has optimized methods for performing several mathematical operations on vectors.\n",
    "Pandas Dataframe - it can be seen as a spreadsheet having rows and columns.\n",
    "Dataframe=pandas.DataFrame(array) - a way to convert between the two"
   ]
  },
  {
   "cell_type": "code",
   "execution_count": null,
   "id": "3a2a2f93",
   "metadata": {},
   "outputs": [],
   "source": [
    "#Q2. What can go wrong when an user enters in a stock-ticker symbol, and how do you handle it?"
   ]
  },
  {
   "cell_type": "code",
   "execution_count": null,
   "id": "dd6529c1",
   "metadata": {},
   "outputs": [],
   "source": [
    "#Ans_2\n",
    "When companies are delisted from their exchanges, the symbol changes. Investors dont need to do anything after a ticker symbol changes."
   ]
  },
  {
   "cell_type": "code",
   "execution_count": null,
   "id": "c3572fee",
   "metadata": {},
   "outputs": [],
   "source": [
    "#Q3. Identify some of the plotting techniques that are used to produce a stock-market chart."
   ]
  },
  {
   "cell_type": "code",
   "execution_count": null,
   "id": "2fca0b56",
   "metadata": {},
   "outputs": [],
   "source": [
    "#Ans_3\n",
    "Bar, line chart"
   ]
  },
  {
   "cell_type": "code",
   "execution_count": null,
   "id": "da27b2c7",
   "metadata": {},
   "outputs": [],
   "source": [
    "#Q4. Why is it essential to print a legend on a stock market chart?"
   ]
  },
  {
   "cell_type": "code",
   "execution_count": null,
   "id": "4638bd1a",
   "metadata": {},
   "outputs": [],
   "source": [
    "#Ans_4\n",
    "It helps in comparing two or more stocks."
   ]
  },
  {
   "cell_type": "code",
   "execution_count": null,
   "id": "22574c6f",
   "metadata": {},
   "outputs": [],
   "source": [
    "#Q5. What is the best way to limit the length of a pandas data frame to less than a year?"
   ]
  },
  {
   "cell_type": "code",
   "execution_count": null,
   "id": "f4f052df",
   "metadata": {},
   "outputs": [],
   "source": [
    "#Ans_5\n",
    "By using start and ed parameters, we can limit the length of a pandas data frame to less than a year."
   ]
  },
  {
   "cell_type": "code",
   "execution_count": null,
   "id": "9b046b63",
   "metadata": {},
   "outputs": [],
   "source": [
    "#Q6. What is the definition of a 180-day moving average?"
   ]
  },
  {
   "cell_type": "code",
   "execution_count": null,
   "id": "2ba730d9",
   "metadata": {},
   "outputs": [],
   "source": [
    "#Ans_6\n",
    "It represents the average price over the past 180 days. \n",
    "The moving average can give traders a sense regarding whether the trend is up or down, while also identifying potential support or resistance areas."
   ]
  },
  {
   "cell_type": "code",
   "execution_count": null,
   "id": "b7afcefd",
   "metadata": {},
   "outputs": [],
   "source": [
    "#Q7. Did the chapters final example use 'indirect' importing? If so, how exactly do you do it?"
   ]
  },
  {
   "cell_type": "code",
   "execution_count": null,
   "id": "db6e6f05",
   "metadata": {},
   "outputs": [],
   "source": [
    "#Ans_7\n",
    "A situation in which a company buys products from someone in another country using an intermediary or  or a product that is bought in this way: The direct or indirect import of diamonds from the country was banned."
   ]
  },
  {
   "cell_type": "code",
   "execution_count": null,
   "id": "ac4392f5",
   "metadata": {},
   "outputs": [],
   "source": []
  }
 ],
 "metadata": {
  "kernelspec": {
   "display_name": "Python 3",
   "language": "python",
   "name": "python3"
  },
  "language_info": {
   "codemirror_mode": {
    "name": "ipython",
    "version": 3
   },
   "file_extension": ".py",
   "mimetype": "text/x-python",
   "name": "python",
   "nbconvert_exporter": "python",
   "pygments_lexer": "ipython3",
   "version": "3.8.8"
  }
 },
 "nbformat": 4,
 "nbformat_minor": 5
}
