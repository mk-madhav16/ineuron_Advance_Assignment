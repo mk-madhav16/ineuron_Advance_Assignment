{
 "cells": [
  {
   "cell_type": "code",
   "execution_count": null,
   "id": "061d36c0",
   "metadata": {},
   "outputs": [],
   "source": [
    "#Q1. What is the relationship between classes and modules?"
   ]
  },
  {
   "cell_type": "code",
   "execution_count": null,
   "id": "81a0990d",
   "metadata": {},
   "outputs": [],
   "source": [
    "#Ans_1\n",
    "A pythonic class is outline for creating a new object while module in python is python file with extension '.py'.\n",
    "Therefore, module is file that contains a set of Classes that we inculcate in or code."
   ]
  },
  {
   "cell_type": "code",
   "execution_count": null,
   "id": "a5c89cd7",
   "metadata": {},
   "outputs": [],
   "source": [
    "#Q2. How do you make instances and classes?"
   ]
  },
  {
   "cell_type": "code",
   "execution_count": null,
   "id": "3f24b650",
   "metadata": {},
   "outputs": [],
   "source": [
    "#Ans_2\n",
    "For creating it we call a class and pass the argument whic its __init__ function accepts."
   ]
  },
  {
   "cell_type": "code",
   "execution_count": null,
   "id": "1f3cb883",
   "metadata": {},
   "outputs": [],
   "source": [
    "#Q3. Where and how should be class attributes created?"
   ]
  },
  {
   "cell_type": "code",
   "execution_count": null,
   "id": "82651a8a",
   "metadata": {},
   "outputs": [],
   "source": [
    "#Ans_3\n",
    "Class attributes are usually created in the top of class definiation outside all methods.\n",
    "Ex- Class car"
   ]
  },
  {
   "cell_type": "code",
   "execution_count": null,
   "id": "675cb34d",
   "metadata": {},
   "outputs": [],
   "source": [
    "#Q4. Where and how are instance attributes created?"
   ]
  },
  {
   "cell_type": "code",
   "execution_count": null,
   "id": "5b04dea2",
   "metadata": {},
   "outputs": [],
   "source": [
    "#Ans_4\n",
    "Instance attributes are defined in the __init__ method of class.\n",
    "It is crearted when instances attributes are passed to the Class when an object of the class is created."
   ]
  },
  {
   "cell_type": "code",
   "execution_count": null,
   "id": "0b5d2933",
   "metadata": {},
   "outputs": [],
   "source": [
    "#Q5. What does the term \"self\" in a Python class mean?"
   ]
  },
  {
   "cell_type": "code",
   "execution_count": null,
   "id": "4cc88aa4",
   "metadata": {},
   "outputs": [],
   "source": [
    "#Ans_5\n",
    "Self represents the instance of the class.\n",
    "It helps binding the attributes with the given arguments."
   ]
  },
  {
   "cell_type": "code",
   "execution_count": null,
   "id": "25bff4ae",
   "metadata": {},
   "outputs": [],
   "source": [
    "#Q6. How does a Python class handle operator overloading?"
   ]
  },
  {
   "cell_type": "code",
   "execution_count": null,
   "id": "e4c3930e",
   "metadata": {},
   "outputs": [],
   "source": [
    "#Ans_6\n",
    "By Magic Methord, python Class handle operator overloading.\n",
    "EX \n",
    "    +   __add__()\n",
    "    -   __sub__()"
   ]
  },
  {
   "cell_type": "code",
   "execution_count": null,
   "id": "9b8b0c08",
   "metadata": {},
   "outputs": [],
   "source": [
    "#Q7. When do you consider allowing operator overloading of your classes?"
   ]
  },
  {
   "cell_type": "code",
   "execution_count": null,
   "id": "3dc6b6d1",
   "metadata": {},
   "outputs": [],
   "source": [
    "#Ans_7\n",
    "When we are using same operator but have different meaning in multiple context "
   ]
  },
  {
   "cell_type": "code",
   "execution_count": null,
   "id": "c0b01e5b",
   "metadata": {},
   "outputs": [],
   "source": [
    "#Q8. What is the most popular form of operator overloading?"
   ]
  },
  {
   "cell_type": "code",
   "execution_count": null,
   "id": "18d0ce4f",
   "metadata": {},
   "outputs": [],
   "source": [
    "#Ans_8\n",
    "Magic methods, is the most popular form of operator overloading."
   ]
  },
  {
   "cell_type": "code",
   "execution_count": null,
   "id": "7f77491f",
   "metadata": {},
   "outputs": [],
   "source": [
    "#Q9. What are the two most important concepts to grasp in order to comprehend Python OOP code?"
   ]
  },
  {
   "cell_type": "code",
   "execution_count": null,
   "id": "ca07a64f",
   "metadata": {},
   "outputs": [],
   "source": [
    "#Ans_9\n",
    "Class and Object are the two most important concepts to grasp in order to comprehend Python OOP code"
   ]
  },
  {
   "cell_type": "code",
   "execution_count": null,
   "id": "1144fd76",
   "metadata": {},
   "outputs": [],
   "source": []
  }
 ],
 "metadata": {
  "kernelspec": {
   "display_name": "Python 3",
   "language": "python",
   "name": "python3"
  },
  "language_info": {
   "codemirror_mode": {
    "name": "ipython",
    "version": 3
   },
   "file_extension": ".py",
   "mimetype": "text/x-python",
   "name": "python",
   "nbconvert_exporter": "python",
   "pygments_lexer": "ipython3",
   "version": "3.8.8"
  }
 },
 "nbformat": 4,
 "nbformat_minor": 5
}
