{
 "cells": [
  {
   "cell_type": "code",
   "execution_count": null,
   "id": "b3439ae0",
   "metadata": {},
   "outputs": [],
   "source": [
    "#Q1. What is the benefit of regular expressions?"
   ]
  },
  {
   "cell_type": "code",
   "execution_count": null,
   "id": "d3796524",
   "metadata": {},
   "outputs": [],
   "source": [
    "#Ans_1\n",
    "• It helps in we can match and extract any string pattern from the text with the help of regular expressions. \n",
    "• It helps the programmers to Write less and cleaner code."
   ]
  },
  {
   "cell_type": "code",
   "execution_count": null,
   "id": "cd74b95f",
   "metadata": {},
   "outputs": [],
   "source": [
    "#Q2. Describe the difference between the effects of \"(ab)c+\" and \"a(bc)+\" Which of these, if any, is the unqualified pattern \"abc+\"?"
   ]
  },
  {
   "cell_type": "code",
   "execution_count": null,
   "id": "3859f8ab",
   "metadata": {},
   "outputs": [],
   "source": [
    "#Ans_2\n",
    "Difference is (ab)c+ ab is group whereas in a(bc)+ bc is a group."
   ]
  },
  {
   "cell_type": "code",
   "execution_count": null,
   "id": "a6339b56",
   "metadata": {},
   "outputs": [],
   "source": [
    "#Q3. How much do you need to use the following sentence while using regular expressions?   import re"
   ]
  },
  {
   "cell_type": "code",
   "execution_count": null,
   "id": "2e3ae1eb",
   "metadata": {},
   "outputs": [],
   "source": [
    "#Ans_3\n",
    "Always, because it helps in importing regex expressions."
   ]
  },
  {
   "cell_type": "code",
   "execution_count": null,
   "id": "2bf4ebd8",
   "metadata": {},
   "outputs": [],
   "source": [
    "#Q4. Which characters have special significance in square brackets when expressing a range, and under what circumstances?"
   ]
  },
  {
   "cell_type": "code",
   "execution_count": null,
   "id": "9aa687e7",
   "metadata": {},
   "outputs": [],
   "source": [
    "#Ans_4\n",
    "Special characters like + ,- , * , > have special significance in square brackets."
   ]
  },
  {
   "cell_type": "code",
   "execution_count": null,
   "id": "126d16a7",
   "metadata": {},
   "outputs": [],
   "source": [
    "#Q5. How does compiling a regular-expression object benefit you?"
   ]
  },
  {
   "cell_type": "code",
   "execution_count": null,
   "id": "1f0ae8bf",
   "metadata": {},
   "outputs": [],
   "source": [
    "#Ans_5\n",
    "It helps us when we have to do pattern matching."
   ]
  },
  {
   "cell_type": "code",
   "execution_count": null,
   "id": "46a7b700",
   "metadata": {},
   "outputs": [],
   "source": [
    "#Q6. What are some examples of how to use the match object returned by re.match and re.search?"
   ]
  },
  {
   "cell_type": "code",
   "execution_count": 1,
   "id": "33fbd345",
   "metadata": {},
   "outputs": [
    {
     "name": "stdout",
     "output_type": "stream",
     "text": [
      "<re.Match object; span=(18, 24), match='madhav'>\n",
      "None\n"
     ]
    }
   ],
   "source": [
    "#Ans_6\n",
    "import re\n",
    "\n",
    "substring = \"madhav\"\n",
    "string = \"Hello, my name is madhav.\"\n",
    "\n",
    "print(re.search(substring, string, re.IGNORECASE))\n",
    "print(re.match(substring, string, re.IGNORECASE))"
   ]
  },
  {
   "cell_type": "code",
   "execution_count": null,
   "id": "5412c7f3",
   "metadata": {},
   "outputs": [],
   "source": [
    "#Q7. What is the difference between using a vertical bar (|) as an alteration and using square brackets as a character set?"
   ]
  },
  {
   "cell_type": "code",
   "execution_count": null,
   "id": "5b6e1240",
   "metadata": {},
   "outputs": [],
   "source": [
    "#Ans_7\n",
    "It means that, it searches as <pattern_1>or<<pattern_2> in the searched string. \n",
    "The first occurance of matched string will be returned as the Match Object."
   ]
  },
  {
   "cell_type": "code",
   "execution_count": null,
   "id": "817b8a06",
   "metadata": {},
   "outputs": [],
   "source": [
    "#Q8. In regular-expression search patterns, why is it necessary to use the raw-string indicator (r)? In replacement strings?"
   ]
  },
  {
   "cell_type": "code",
   "execution_count": null,
   "id": "03691948",
   "metadata": {},
   "outputs": [],
   "source": [
    "#Ans_8\n",
    "It is done to avoid blackslashes from being escaped."
   ]
  },
  {
   "cell_type": "code",
   "execution_count": null,
   "id": "10ed35c5",
   "metadata": {},
   "outputs": [],
   "source": []
  },
  {
   "cell_type": "code",
   "execution_count": null,
   "id": "03a2f61f",
   "metadata": {},
   "outputs": [],
   "source": []
  },
  {
   "cell_type": "code",
   "execution_count": null,
   "id": "9e307847",
   "metadata": {},
   "outputs": [],
   "source": []
  },
  {
   "cell_type": "code",
   "execution_count": null,
   "id": "6ff97541",
   "metadata": {},
   "outputs": [],
   "source": []
  }
 ],
 "metadata": {
  "kernelspec": {
   "display_name": "Python 3",
   "language": "python",
   "name": "python3"
  },
  "language_info": {
   "codemirror_mode": {
    "name": "ipython",
    "version": 3
   },
   "file_extension": ".py",
   "mimetype": "text/x-python",
   "name": "python",
   "nbconvert_exporter": "python",
   "pygments_lexer": "ipython3",
   "version": "3.8.8"
  }
 },
 "nbformat": 4,
 "nbformat_minor": 5
}
