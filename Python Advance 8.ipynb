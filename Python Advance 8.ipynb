{
 "cells": [
  {
   "cell_type": "code",
   "execution_count": null,
   "id": "0f579760",
   "metadata": {},
   "outputs": [],
   "source": [
    "#Q1. What are the two latest user-defined exception constraints in Python 3.X?"
   ]
  },
  {
   "cell_type": "code",
   "execution_count": null,
   "id": "56a289a2",
   "metadata": {},
   "outputs": [],
   "source": [
    "#Ans_1\n",
    "raise and assert statement"
   ]
  },
  {
   "cell_type": "code",
   "execution_count": null,
   "id": "f2fe915c",
   "metadata": {},
   "outputs": [],
   "source": [
    "#Q2. How are class-based exceptions that have been raised matched to handlers?"
   ]
  },
  {
   "cell_type": "code",
   "execution_count": null,
   "id": "1a70e990",
   "metadata": {},
   "outputs": [],
   "source": [
    "#Ans_2\n",
    "It can be created by creating a new class. \n",
    "This exception Class has to be derived, either directly or indirectly from built-in Exception class"
   ]
  },
  {
   "cell_type": "code",
   "execution_count": null,
   "id": "0a57e8a2",
   "metadata": {},
   "outputs": [],
   "source": [
    "#Q3. Describe two methods for attaching context information to exception artefacts ?"
   ]
  },
  {
   "cell_type": "code",
   "execution_count": null,
   "id": "7e5c06d2",
   "metadata": {},
   "outputs": [],
   "source": [
    "#Ans_3\n",
    "exception() \n",
    "debug()     "
   ]
  },
  {
   "cell_type": "code",
   "execution_count": null,
   "id": "c8e8e460",
   "metadata": {},
   "outputs": [],
   "source": [
    "#Q4. Describe two methods for specifying the text of an exception object's error message ?"
   ]
  },
  {
   "cell_type": "code",
   "execution_count": null,
   "id": "28983264",
   "metadata": {},
   "outputs": [],
   "source": [
    "#Ans_4\n",
    "Two methods are raise and assert.\n",
    "Raise   - used to trigger explicit exception.\n",
    "Assert  - trigger explicit exception, if certain condition is not as per requirement of programmer."
   ]
  },
  {
   "cell_type": "code",
   "execution_count": null,
   "id": "fe16f9dc",
   "metadata": {},
   "outputs": [],
   "source": [
    "#Q5. Why do you no longer use string-based exceptions?"
   ]
  },
  {
   "cell_type": "code",
   "execution_count": 1,
   "id": "fe70f945",
   "metadata": {},
   "outputs": [],
   "source": [
    "#Ans_5\n",
    "It is because  String-based Exceptions doesnt inherit from Exceptions. "
   ]
  },
  {
   "cell_type": "code",
   "execution_count": null,
   "id": "b8d45997",
   "metadata": {},
   "outputs": [],
   "source": []
  }
 ],
 "metadata": {
  "kernelspec": {
   "display_name": "Python 3",
   "language": "python",
   "name": "python3"
  },
  "language_info": {
   "codemirror_mode": {
    "name": "ipython",
    "version": 3
   },
   "file_extension": ".py",
   "mimetype": "text/x-python",
   "name": "python",
   "nbconvert_exporter": "python",
   "pygments_lexer": "ipython3",
   "version": "3.8.8"
  }
 },
 "nbformat": 4,
 "nbformat_minor": 5
}
