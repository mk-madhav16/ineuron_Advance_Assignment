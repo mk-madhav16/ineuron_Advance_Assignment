{
 "cells": [
  {
   "cell_type": "code",
   "execution_count": null,
   "id": "9e655590",
   "metadata": {},
   "outputs": [],
   "source": [
    "#1. What is the concept of an abstract superclass?"
   ]
  },
  {
   "cell_type": "code",
   "execution_count": null,
   "id": "d94f78d4",
   "metadata": {},
   "outputs": [],
   "source": [
    "#Ans_1\n",
    "Abstract superclass- Blueprint of other class. \n",
    "Help create methords that is created within any child Class built from the abstract superclass."
   ]
  },
  {
   "cell_type": "code",
   "execution_count": null,
   "id": "0a256153",
   "metadata": {},
   "outputs": [],
   "source": [
    "#2. What happens when a class statement&#39;s top level contains a basic assignment statement?"
   ]
  },
  {
   "cell_type": "code",
   "execution_count": null,
   "id": "832f039a",
   "metadata": {},
   "outputs": [],
   "source": [
    "#Ans_2\n",
    "It is treated as Class variable or can say i as Class attribute."
   ]
  },
  {
   "cell_type": "code",
   "execution_count": null,
   "id": "17571e7d",
   "metadata": {},
   "outputs": [],
   "source": [
    "#3. Why does a class need to manually call a superclass's init method?"
   ]
  },
  {
   "cell_type": "code",
   "execution_count": null,
   "id": "91063003",
   "metadata": {},
   "outputs": [],
   "source": [
    "#Ans_3\n",
    "It is because base Class typically create member variable and initialize them to defaults.\n",
    "Therefore, we have to manually call a parent superclasss __init__ using super() method."
   ]
  },
  {
   "cell_type": "code",
   "execution_count": null,
   "id": "76c0e0a3",
   "metadata": {},
   "outputs": [],
   "source": [
    "#4. How can you augment, instead of completely replacing, an inherited method?"
   ]
  },
  {
   "cell_type": "code",
   "execution_count": null,
   "id": "be2b30ec",
   "metadata": {},
   "outputs": [],
   "source": [
    "#Ans_4\n",
    "The easiest way to call it is by using super() methord.\n",
    "Which is used to augment, instead of completely replacing, an inherited method."
   ]
  },
  {
   "cell_type": "code",
   "execution_count": null,
   "id": "bebebd67",
   "metadata": {},
   "outputs": [],
   "source": [
    "#5. How is the local scope of a class different from that of a function?"
   ]
  },
  {
   "cell_type": "code",
   "execution_count": null,
   "id": "68c4f519",
   "metadata": {},
   "outputs": [],
   "source": [
    "#Ans_5\n",
    "A Variable which is defined inside a function is local to that function. \n",
    "It is accesible from the point at which it is defined until the end of the function, and exists for as long as the function is existing."
   ]
  },
  {
   "cell_type": "code",
   "execution_count": null,
   "id": "f0b596ec",
   "metadata": {},
   "outputs": [],
   "source": []
  }
 ],
 "metadata": {
  "kernelspec": {
   "display_name": "Python 3",
   "language": "python",
   "name": "python3"
  },
  "language_info": {
   "codemirror_mode": {
    "name": "ipython",
    "version": 3
   },
   "file_extension": ".py",
   "mimetype": "text/x-python",
   "name": "python",
   "nbconvert_exporter": "python",
   "pygments_lexer": "ipython3",
   "version": "3.8.8"
  }
 },
 "nbformat": 4,
 "nbformat_minor": 5
}
