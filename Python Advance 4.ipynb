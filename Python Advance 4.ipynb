{
 "cells": [
  {
   "cell_type": "code",
   "execution_count": null,
   "id": "c77bd16d",
   "metadata": {},
   "outputs": [],
   "source": [
    "#Q1. Which two operator overloading methods can you use in your classes to support iteration?"
   ]
  },
  {
   "cell_type": "code",
   "execution_count": null,
   "id": "970ee383",
   "metadata": {},
   "outputs": [],
   "source": [
    "#Ans_1\n",
    "__iter__ and __next__"
   ]
  },
  {
   "cell_type": "code",
   "execution_count": null,
   "id": "e246c275",
   "metadata": {},
   "outputs": [],
   "source": [
    "#Q2. In what contexts do the two operator overloading methods manage printing?"
   ]
  },
  {
   "cell_type": "code",
   "execution_count": null,
   "id": "35b78bed",
   "metadata": {},
   "outputs": [],
   "source": [
    "#Ans_2\n",
    "__str__ and __repr__ are the two operator overloading methods manage printing."
   ]
  },
  {
   "cell_type": "code",
   "execution_count": null,
   "id": "9c0eef17",
   "metadata": {},
   "outputs": [],
   "source": [
    "#Q3. In a class, how do you intercept slice operations?"
   ]
  },
  {
   "cell_type": "code",
   "execution_count": null,
   "id": "710816ff",
   "metadata": {},
   "outputs": [],
   "source": [
    "#Ans_3\n",
    "We can do slice() in __getitem__ method is used for intercept slice operation."
   ]
  },
  {
   "cell_type": "code",
   "execution_count": null,
   "id": "dcd27ee1",
   "metadata": {},
   "outputs": [],
   "source": [
    "#Q4. In a class, how do you capture in-place addition?"
   ]
  },
  {
   "cell_type": "code",
   "execution_count": null,
   "id": "cb527436",
   "metadata": {},
   "outputs": [],
   "source": [
    "#Ans_4\n",
    "a+=b can be used to capture in-place addition.\n",
    "In case of class, __iadd__ method is being used"
   ]
  },
  {
   "cell_type": "code",
   "execution_count": null,
   "id": "5513a3e5",
   "metadata": {},
   "outputs": [],
   "source": [
    "#Q5. When is it appropriate to use operator overloading?"
   ]
  },
  {
   "cell_type": "code",
   "execution_count": null,
   "id": "a5322e33",
   "metadata": {},
   "outputs": [],
   "source": [
    "#Ans_5\n",
    "Appropriate time is when we want to use an operator other than its normal operation.\n",
    "Hence , to have different meaning according to the context required in user defined function."
   ]
  },
  {
   "cell_type": "code",
   "execution_count": null,
   "id": "74f75bfd",
   "metadata": {},
   "outputs": [],
   "source": []
  }
 ],
 "metadata": {
  "kernelspec": {
   "display_name": "Python 3",
   "language": "python",
   "name": "python3"
  },
  "language_info": {
   "codemirror_mode": {
    "name": "ipython",
    "version": 3
   },
   "file_extension": ".py",
   "mimetype": "text/x-python",
   "name": "python",
   "nbconvert_exporter": "python",
   "pygments_lexer": "ipython3",
   "version": "3.8.8"
  }
 },
 "nbformat": 4,
 "nbformat_minor": 5
}
