{
 "cells": [
  {
   "cell_type": "code",
   "execution_count": null,
   "id": "2e67508a",
   "metadata": {},
   "outputs": [],
   "source": [
    "#Q1. In Python 3.X, what are the names and functions of string object types?"
   ]
  },
  {
   "cell_type": "code",
   "execution_count": null,
   "id": "589312df",
   "metadata": {},
   "outputs": [],
   "source": [
    "#Ans_1\n",
    "There rae several string object types some of them are :-\n",
    "• len(string)      - Returns the length of the given string.\n",
    "• string.upper()   - Returns the string with all characters in uppercase.\n",
    "• string.strip()   - Returns a copy of where both leading and trailing whitespaces are removed.\n",
    "• string.istitle() - Returns True if first character in a string is in Uppercase."
   ]
  },
  {
   "cell_type": "code",
   "execution_count": null,
   "id": "5949bf51",
   "metadata": {},
   "outputs": [],
   "source": [
    "#Q2. How do the string forms in Python 3.X vary in terms of operations?"
   ]
  },
  {
   "cell_type": "code",
   "execution_count": null,
   "id": "a337c1f4",
   "metadata": {},
   "outputs": [],
   "source": [
    "#Ans_2\n",
    "In Python 3.X default format of strings is Unicode.\n",
    "While, in Pyton 2.X we need to explicitly mention Unicode value using u."
   ]
  },
  {
   "cell_type": "code",
   "execution_count": null,
   "id": "32afa420",
   "metadata": {},
   "outputs": [],
   "source": [
    "#Q3. In Python 3.X, how do you put non-ASCII Unicode characters in a string?"
   ]
  },
  {
   "cell_type": "code",
   "execution_count": null,
   "id": "de4644ea",
   "metadata": {},
   "outputs": [],
   "source": [
    "#Ans_3\n",
    "The simplest methord to do this by using unidecode() methord "
   ]
  },
  {
   "cell_type": "code",
   "execution_count": null,
   "id": "3fa9d361",
   "metadata": {},
   "outputs": [],
   "source": [
    "#Q4. In Python 3.X, what are the key differences between text-mode and binary-mode files?"
   ]
  },
  {
   "cell_type": "code",
   "execution_count": null,
   "id": "dde0f102",
   "metadata": {},
   "outputs": [],
   "source": [
    "#Ans_4\n",
    "Text file   - Consist of textual information in the form of alphabets, digits.\n",
    "Binary file - Consist of bytes or a compiled version of a text file."
   ]
  },
  {
   "cell_type": "code",
   "execution_count": null,
   "id": "f1f13f9e",
   "metadata": {},
   "outputs": [],
   "source": [
    "#Q5. How can you interpret a Unicode text file containing text encoded in a different encoding than your platform's default?"
   ]
  },
  {
   "cell_type": "code",
   "execution_count": null,
   "id": "ed8edab5",
   "metadata": {},
   "outputs": [],
   "source": [
    "#Ans_5\n",
    "The simplest methord to do this by using encode() and decode()."
   ]
  },
  {
   "cell_type": "code",
   "execution_count": null,
   "id": "af76f75d",
   "metadata": {},
   "outputs": [],
   "source": [
    "#Q6. What is the best way to make a Unicode text file in a particular encoding format?"
   ]
  },
  {
   "cell_type": "code",
   "execution_count": null,
   "id": "abd9dc21",
   "metadata": {},
   "outputs": [],
   "source": [
    "#Ans_6\n",
    "Steps are :-\n",
    "    str.encode(encoding_file)\n",
    "    open(file_name, wb)\n",
    "    file_name.write(result)"
   ]
  },
  {
   "cell_type": "code",
   "execution_count": null,
   "id": "a473bed0",
   "metadata": {},
   "outputs": [],
   "source": [
    "#Q7. What qualifies ASCII text as a form of Unicode text?"
   ]
  },
  {
   "cell_type": "code",
   "execution_count": null,
   "id": "d2b61cd5",
   "metadata": {},
   "outputs": [],
   "source": [
    "#Ans_7\n",
    "It is for backward compatibility, the first 128 Unicode code points represent the equivalent ASCII characters."
   ]
  },
  {
   "cell_type": "code",
   "execution_count": null,
   "id": "04183111",
   "metadata": {},
   "outputs": [],
   "source": [
    "#Q8. How much of an effect does the change in string types in Python 3.X have on your code?"
   ]
  },
  {
   "cell_type": "code",
   "execution_count": null,
   "id": "e81ce548",
   "metadata": {},
   "outputs": [],
   "source": [
    "#Ans_8\n",
    "There is a lot of effect of string types in a code as a change in its type can show a lot of error and can shut out code."
   ]
  },
  {
   "cell_type": "code",
   "execution_count": null,
   "id": "f579c74f",
   "metadata": {},
   "outputs": [],
   "source": []
  }
 ],
 "metadata": {
  "kernelspec": {
   "display_name": "Python 3",
   "language": "python",
   "name": "python3"
  },
  "language_info": {
   "codemirror_mode": {
    "name": "ipython",
    "version": 3
   },
   "file_extension": ".py",
   "mimetype": "text/x-python",
   "name": "python",
   "nbconvert_exporter": "python",
   "pygments_lexer": "ipython3",
   "version": "3.8.8"
  }
 },
 "nbformat": 4,
 "nbformat_minor": 5
}
